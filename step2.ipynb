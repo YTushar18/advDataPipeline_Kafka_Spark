{
 "cells": [
  {
   "cell_type": "code",
   "execution_count": 1,
   "metadata": {},
   "outputs": [
    {
     "name": "stdout",
     "output_type": "stream",
     "text": [
      ":: loading settings :: url = jar:file:/Users/csuftitan/Documents/Development/Adv%20DB%20Project/marketDataAnalysis/.venv/lib/python3.11/site-packages/pyspark/jars/ivy-2.5.1.jar!/org/apache/ivy/core/settings/ivysettings.xml\n"
     ]
    },
    {
     "name": "stderr",
     "output_type": "stream",
     "text": [
      "Ivy Default Cache set to: /Users/csuftitan/.ivy2/cache\n",
      "The jars for the packages stored in: /Users/csuftitan/.ivy2/jars\n",
      "org.apache.spark#spark-sql-kafka-0-10_2.12 added as a dependency\n",
      ":: resolving dependencies :: org.apache.spark#spark-submit-parent-e4c6ebda-c53c-419f-951e-5c36123a0c51;1.0\n",
      "\tconfs: [default]\n",
      "\tfound org.apache.spark#spark-sql-kafka-0-10_2.12;3.1.2 in central\n",
      "\tfound org.apache.spark#spark-token-provider-kafka-0-10_2.12;3.1.2 in central\n",
      "\tfound org.apache.kafka#kafka-clients;2.6.0 in central\n",
      "\tfound com.github.luben#zstd-jni;1.4.8-1 in central\n",
      "\tfound org.lz4#lz4-java;1.7.1 in central\n",
      "\tfound org.xerial.snappy#snappy-java;1.1.8.2 in central\n",
      "\tfound org.slf4j#slf4j-api;1.7.30 in central\n",
      "\tfound org.spark-project.spark#unused;1.0.0 in central\n",
      "\tfound org.apache.commons#commons-pool2;2.6.2 in central\n",
      ":: resolution report :: resolve 210ms :: artifacts dl 13ms\n",
      "\t:: modules in use:\n",
      "\tcom.github.luben#zstd-jni;1.4.8-1 from central in [default]\n",
      "\torg.apache.commons#commons-pool2;2.6.2 from central in [default]\n",
      "\torg.apache.kafka#kafka-clients;2.6.0 from central in [default]\n",
      "\torg.apache.spark#spark-sql-kafka-0-10_2.12;3.1.2 from central in [default]\n",
      "\torg.apache.spark#spark-token-provider-kafka-0-10_2.12;3.1.2 from central in [default]\n",
      "\torg.lz4#lz4-java;1.7.1 from central in [default]\n",
      "\torg.slf4j#slf4j-api;1.7.30 from central in [default]\n",
      "\torg.spark-project.spark#unused;1.0.0 from central in [default]\n",
      "\torg.xerial.snappy#snappy-java;1.1.8.2 from central in [default]\n",
      "\t---------------------------------------------------------------------\n",
      "\t|                  |            modules            ||   artifacts   |\n",
      "\t|       conf       | number| search|dwnlded|evicted|| number|dwnlded|\n",
      "\t---------------------------------------------------------------------\n",
      "\t|      default     |   9   |   0   |   0   |   0   ||   9   |   0   |\n",
      "\t---------------------------------------------------------------------\n",
      ":: retrieving :: org.apache.spark#spark-submit-parent-e4c6ebda-c53c-419f-951e-5c36123a0c51\n",
      "\tconfs: [default]\n",
      "\t0 artifacts copied, 9 already retrieved (0kB/7ms)\n",
      "23/11/30 03:04:03 WARN NativeCodeLoader: Unable to load native-hadoop library for your platform... using builtin-java classes where applicable\n",
      "Setting default log level to \"WARN\".\n",
      "To adjust logging level use sc.setLogLevel(newLevel). For SparkR, use setLogLevel(newLevel).\n",
      "23/11/30 03:04:05 WARN ResolveWriteToStream: Temporary checkpoint location created which is deleted normally when the query didn't fail: /private/var/folders/3h/dgk1gddd4vd7jthqz32mnkhh0000gn/T/temporary-d7f6a765-a8b7-45fc-a159-642939d32d8a. If it's required to delete it under any circumstances, please set spark.sql.streaming.forceDeleteTempCheckpointLocation to true. Important to know deleting temp checkpoint folder is best effort.\n",
      "23/11/30 03:04:05 WARN ResolveWriteToStream: spark.sql.adaptive.enabled is not supported in streaming DataFrames/Datasets and will be disabled.\n",
      "23/11/30 03:04:06 WARN AdminClientConfig: The configuration 'key.deserializer' was supplied but isn't a known config.\n",
      "23/11/30 03:04:06 WARN AdminClientConfig: The configuration 'value.deserializer' was supplied but isn't a known config.\n",
      "23/11/30 03:04:06 WARN AdminClientConfig: The configuration 'enable.auto.commit' was supplied but isn't a known config.\n",
      "23/11/30 03:04:06 WARN AdminClientConfig: The configuration 'max.poll.records' was supplied but isn't a known config.\n",
      "23/11/30 03:04:06 WARN AdminClientConfig: The configuration 'auto.offset.reset' was supplied but isn't a known config.\n",
      "23/11/30 03:04:15 WARN GarbageCollectionMetrics: To enable non-built-in garbage collector(s) List(G1 Concurrent GC), users should configure it(them) to spark.eventLog.gcMetrics.youngGenerationGarbageCollectors or spark.eventLog.gcMetrics.oldGenerationGarbageCollectors\n"
     ]
    },
    {
     "name": "stdout",
     "output_type": "stream",
     "text": [
      "root\n",
      " |-- symbol: string (nullable = true)\n",
      " |-- timeseries: string (nullable = true)\n",
      " |-- open: string (nullable = true)\n",
      " |-- high: string (nullable = true)\n",
      " |-- low: string (nullable = true)\n",
      " |-- close: string (nullable = true)\n",
      " |-- volume: string (nullable = true)\n",
      "\n"
     ]
    },
    {
     "name": "stderr",
     "output_type": "stream",
     "text": [
      "23/11/30 03:04:16 WARN Analyzer$ResolveFunctions: Two-parameter TRIM/LTRIM/RTRIM function signatures are deprecated. Use SQL syntax `TRIM((BOTH | LEADING | TRAILING)? trimStr FROM str)` instead.\n"
     ]
    },
    {
     "name": "stdout",
     "output_type": "stream",
     "text": [
      "+------+---------------------+----------+----------+----------+----------+---------+\n",
      "|symbol|timeseries           |open      |high      |low       |close     |volume   |\n",
      "+------+---------------------+----------+----------+----------+----------+---------+\n",
      "|IBM   |\"2023-03-31 19:40:00\"|\"126.3450\"|\"126.3510\"|\"126.2890\"|\"126.3110\"|\"100\"    |\n",
      "|IBM   |\"2023-03-31 19:00:00\"|\"126.3450\"|\"126.3510\"|\"126.2890\"|\"126.3110\"|\"135\"    |\n",
      "|IBM   |\"2023-03-31 17:45:00\"|\"126.2300\"|\"126.2350\"|\"126.1730\"|\"126.1960\"|\"1038\"   |\n",
      "|IBM   |\"2023-03-31 17:30:00\"|\"126.3940\"|\"126.3990\"|\"126.3370\"|\"126.3600\"|\"241\"    |\n",
      "|IBM   |\"2023-03-31 17:20:00\"|\"126.4710\"|\"126.4760\"|\"126.4140\"|\"126.4370\"|\"150\"    |\n",
      "|IBM   |\"2023-03-31 16:55:00\"|\"126.4710\"|\"126.4760\"|\"126.3760\"|\"126.3980\"|\"900\"    |\n",
      "|IBM   |\"2023-03-31 16:50:00\"|\"126.3450\"|\"126.3510\"|\"126.2890\"|\"126.3110\"|\"100\"    |\n",
      "|IBM   |\"2023-03-31 16:45:00\"|\"126.3450\"|\"126.3510\"|\"126.2890\"|\"126.3110\"|\"1400\"   |\n",
      "|IBM   |\"2023-03-31 16:35:00\"|\"126.2490\"|\"126.2540\"|\"126.1930\"|\"126.2150\"|\"200\"    |\n",
      "|IBM   |\"2023-03-31 16:25:00\"|\"126.4350\"|\"126.4400\"|\"126.3790\"|\"126.4010\"|\"100\"    |\n",
      "|IBM   |\"2023-03-31 16:20:00\"|\"126.5380\"|\"126.5430\"|\"126.4820\"|\"126.5040\"|\"148\"    |\n",
      "|IBM   |\"2023-03-31 16:15:00\"|\"126.4320\"|\"126.4370\"|\"126.3760\"|\"126.3980\"|\"83018\"  |\n",
      "|IBM   |\"2023-03-31 16:10:00\"|\"126.4320\"|\"126.4370\"|\"126.3760\"|\"126.3980\"|\"3215\"   |\n",
      "|IBM   |\"2023-03-31 16:05:00\"|\"126.4320\"|\"126.4370\"|\"126.3760\"|\"126.3980\"|\"36885\"  |\n",
      "|IBM   |\"2023-03-31 16:00:00\"|\"126.4320\"|\"126.4370\"|\"126.3760\"|\"126.3980\"|\"1201183\"|\n",
      "|IBM   |\"2023-03-31 15:55:00\"|\"126.2300\"|\"126.5730\"|\"126.1590\"|\"126.3790\"|\"445875\" |\n",
      "|IBM   |\"2023-03-31 15:50:00\"|\"126.1040\"|\"126.3510\"|\"126.0190\"|\"126.1960\"|\"195094\" |\n",
      "|IBM   |\"2023-03-31 15:45:00\"|\"126.1820\"|\"126.2160\"|\"125.9930\"|\"126.0650\"|\"90358\"  |\n",
      "|IBM   |\"2023-03-31 15:40:00\"|\"126.1740\"|\"126.2250\"|\"126.0770\"|\"126.1470\"|\"33406\"  |\n",
      "|IBM   |\"2023-03-31 15:35:00\"|\"126.2880\"|\"126.3020\"|\"126.0870\"|\"126.1470\"|\"42308\"  |\n",
      "+------+---------------------+----------+----------+----------+----------+---------+\n",
      "only showing top 20 rows\n",
      "\n"
     ]
    }
   ],
   "source": [
    "import json\n",
    "import requests\n",
    "import config\n",
    "\n",
    "from pyspark.sql import SparkSession\n",
    "from pyspark.sql.functions import from_json, col, expr\n",
    "from pyspark.sql.functions import col, lit, explode\n",
    "import pyspark.sql.functions as F\n",
    "from pyspark.sql.types import StructType, StructField, StringType, DoubleType, IntegerType\n",
    "from pyspark.sql.types import StructType, StructField, StringType, MapType, TimestampType\n",
    "\n",
    "from pyspark.sql import SparkSession\n",
    "\n",
    "\n",
    "\n",
    "# Create a Spark session with the Kafka package\n",
    "spark = SparkSession.builder \\\n",
    "    .appName(\"MarketDataProcessor\") \\\n",
    "    .config(\"spark.jars.packages\", \"org.apache.spark:spark-sql-kafka-0-10_2.12:3.1.2\") \\\n",
    "    .getOrCreate()\n",
    "\n",
    "\n",
    "kafka_params = {\n",
    "    \"kafka.bootstrap.servers\": \"localhost:9092\",\n",
    "    \"subscribe\": \"marketdata\"\n",
    "}\n",
    "\n",
    "\n",
    "value_schema = StructType([\n",
    "    StructField(\"symbol\", StringType(), True),\n",
    "    StructField(\"timeseries\", StringType(), True),\n",
    "    StructField(\"open\", StringType(), True),\n",
    "    StructField(\"high\", StringType(), True),\n",
    "    StructField(\"low\", StringType(), True),\n",
    "    StructField(\"close\", StringType(), True),\n",
    "    StructField(\"volume\", StringType(), True),\n",
    "])\n",
    "\n",
    "\n",
    "\n",
    "# Read data from Kafka topic\n",
    "kafka_df = spark \\\n",
    "    .readStream \\\n",
    "    .format(\"kafka\") \\\n",
    "    .option(\"kafka.bootstrap.servers\", \"localhost:9092\") \\\n",
    "    .option(\"subscribe\", \"marketdata\") \\\n",
    "    .load()\n",
    "\n",
    "\n",
    "kafka_df = kafka_df.select(from_json(col(\"value\").cast(\"string\"), value_schema) \\\n",
    "                        .alias(\"values\"))\n",
    "\n",
    "from pyspark.sql.functions import explode\n",
    "\n",
    "\n",
    "parsed_df = kafka_df.select(\"values.*\")\n",
    "\n",
    "# Write the streaming DataFrame to an in-memory table\n",
    "query = parsed_df \\\n",
    "    .writeStream \\\n",
    "    .format(\"memory\") \\\n",
    "    .queryName(\"my_table\") \\\n",
    "    .start()\n",
    "\n",
    "# Wait for the streaming query to start\n",
    "query.awaitTermination(10)\n",
    "\n",
    "# Query the in-memory table using Spark SQL to create a static DataFrame\n",
    "static_df = spark.sql(\"SELECT * FROM my_table\")\n",
    "\n",
    "# Show the resulting static DataFrame\n",
    "# static_df.show(truncate=False)\n",
    "static_df.printSchema()\n",
    "\n",
    "from pyspark.sql.functions import split, expr\n",
    "import pyspark.sql.functions as F\n",
    "from pyspark.sql.types import *\n",
    "\n",
    "# Modify the DataFrame to include \"open,\" \"high,\" \"low,\" \"close,\" and \"volume\" columns\n",
    "df = static_df.withColumn(\"time\", expr(\"split(trim('[]', timeseries), ',' )\")) \\\n",
    "    .withColumn(\"open\", expr(\"split(trim('[]', open), ',' )\")) \\\n",
    "    .withColumn(\"high\", expr(\"split(trim('[]', high), ',' )\")) \\\n",
    "    .withColumn(\"low\", expr(\"split(trim('[]', low), ',' )\")) \\\n",
    "    .withColumn(\"close\", expr(\"split(trim('[]', close), ',' )\")) \\\n",
    "    .withColumn(\"volume\", expr(\"split(trim('[]', volume), ',' )\"))\n",
    "\n",
    "# Use arrays_zip with the modified columns\n",
    "df = df.withColumn(\"new\", expr(\"arrays_zip(time, open, high, low, close, volume)\")) \\\n",
    "       .withColumn(\"new\", explode(\"new\")) \\\n",
    "       .select(\"symbol\", col(\"new.time\").alias(\"timeseries\"), col(\"new.open\").alias(\"open\"),\n",
    "               col(\"new.high\").alias(\"high\"), col(\"new.low\").alias(\"low\"),\n",
    "               col(\"new.close\").alias(\"close\"), col(\"new.volume\").alias(\"volume\"))\n",
    "\n",
    "df.show(truncate=False)\n",
    "\n",
    "# Specify the path where you want to save the CSV file\n",
    "csv_path = \"data\"\n",
    "\n",
    "# Write the DataFrame to CSV\n",
    "df.write.csv(csv_path, header=True, mode=\"overwrite\")"
   ]
  },
  {
   "cell_type": "code",
   "execution_count": 20,
   "metadata": {},
   "outputs": [
    {
     "name": "stdout",
     "output_type": "stream",
     "text": [
      "DataFrame[symbol: string, timeseries: string, open: string, high: string, low: string, close: string, volume: string]\n"
     ]
    },
    {
     "data": {
      "image/png": "[encoded data removed]",
      "text/plain": [
       "<Figure size 1400x1000 with 2 Axes>"
      ]
     },
     "metadata": {},
     "output_type": "display_data"
    }
   ],
   "source": [
    "\n",
    "\n",
    "\n",
    "import pandas as pd\n",
    "import matplotlib.pyplot as plt\n",
    "\n",
    "\n",
    "print(df)\n",
    "\n",
    "# Convert Spark DataFrame to Pandas DataFrame for plotting\n",
    "pandas_df = df.toPandas()\n",
    "\n",
    "pandas_df['open'] = pandas_df['open'].str.strip('\"')\n",
    "pandas_df['high'] = pandas_df['high'].str.strip('\"')\n",
    "pandas_df['low'] = pandas_df['low'].str.strip('\"')\n",
    "pandas_df['close'] = pandas_df['close'].str.strip('\"')\n",
    "pandas_df['volume'] = pandas_df['volume'].str.strip('\"')\n",
    "\n",
    "\n",
    "pandas_df['open'] = pandas_df['open'].astype(float)\n",
    "pandas_df['low'] = pandas_df['low'].astype(float)\n",
    "pandas_df['high'] = pandas_df['high'].astype(float)\n",
    "pandas_df['close'] = pandas_df['close'].astype(float)\n",
    "pandas_df['volume'] = pandas_df['volume'].astype(float)\n",
    "\n",
    "# Ensure 'timeseries' column is of string type\n",
    "pandas_df['timeseries'] = pandas_df['timeseries'].astype(str)\n",
    "\n",
    "# Remove double quotes around the timestamp string\n",
    "pandas_df['timeseries'] = pandas_df['timeseries'].str.strip('\"')\n",
    "\n",
    "# Convert 'date' column to datetime type\n",
    "pandas_df['date'] = pd.to_datetime(pandas_df['timeseries'], format='%Y-%m-%d %H:%M:%S')\n",
    "\n",
    "# Sort the DataFrame by date\n",
    "pandas_df.sort_values('date', inplace=True)\n",
    "\n",
    "# Setting up the figure for the dashboard\n",
    "fig, axes = plt.subplots(nrows=2, ncols=1, figsize=(14, 10))\n",
    "fig.suptitle(\"IBM Stock Analysis Dashboard\", fontsize=16)\n",
    "\n",
    "# Plot 1: Closing Prices\n",
    "axes[0].plot(pandas_df['date'].values, pandas_df['close'].values, label='Closing Price', color='blue', alpha=0.7)\n",
    "axes[0].set_title('Closing Prices Over Time')\n",
    "axes[0].set_xlabel('Date')\n",
    "axes[0].set_ylabel('Closing Price')\n",
    "axes[0].legend()\n",
    "\n",
    "# Calculate the moving averages\n",
    "pandas_df['7_day_SMA'] = pandas_df['close'].rolling(window=7).mean()\n",
    "pandas_df['30_day_SMA'] = pandas_df['close'].rolling(window=30).mean()\n",
    "\n",
    "# Plot 2: Moving Averages\n",
    "axes[1].plot(pandas_df['date'].values, pandas_df['close'].values, label='Closing Price', color='blue', alpha=0.5)\n",
    "axes[1].plot(pandas_df['date'].values, pandas_df['7_day_SMA'].values, label='7-Day SMA', color='red')\n",
    "axes[1].plot(pandas_df['date'].values, pandas_df['30_day_SMA'].values, label='30-Day SMA', color='green')\n",
    "axes[1].set_title('Closing Prices with 7-Day and 30-Day Moving Averages')\n",
    "axes[1].set_xlabel('Date')\n",
    "axes[1].set_ylabel('Price')\n",
    "axes[1].legend()\n",
    "\n",
    "# Adjust layout\n",
    "plt.tight_layout()\n",
    "plt.subplots_adjust(top=0.9)\n",
    "\n",
    "# Show the dashboard\n",
    "plt.show()"
   ]
  },
  {
   "cell_type": "code",
   "execution_count": 21,
   "metadata": {},
   "outputs": [
    {
     "data": {
      "text/html": [
       "<div>\n",
       "<style scoped>\n",
       "    .dataframe tbody tr th:only-of-type {\n",
       "        vertical-align: middle;\n",
       "    }\n",
       "\n",
       "    .dataframe tbody tr th {\n",
       "        vertical-align: top;\n",
       "    }\n",
       "\n",
       "    .dataframe thead th {\n",
       "        text-align: right;\n",
       "    }\n",
       "</style>\n",
       "<table border=\"1\" class=\"dataframe\">\n",
       "  <thead>\n",
       "    <tr style=\"text-align: right;\">\n",
       "      <th></th>\n",
       "      <th>symbol</th>\n",
       "      <th>timeseries</th>\n",
       "      <th>open</th>\n",
       "      <th>high</th>\n",
       "      <th>low</th>\n",
       "      <th>close</th>\n",
       "      <th>volume</th>\n",
       "      <th>date</th>\n",
       "      <th>7_day_SMA</th>\n",
       "      <th>30_day_SMA</th>\n",
       "    </tr>\n",
       "  </thead>\n",
       "  <tbody>\n",
       "    <tr>\n",
       "      <th>99</th>\n",
       "      <td>IBM</td>\n",
       "      <td>2023-03-31 07:05:00</td>\n",
       "      <td>124.802</td>\n",
       "      <td>124.807</td>\n",
       "      <td>124.747</td>\n",
       "      <td>124.769</td>\n",
       "      <td>200.0</td>\n",
       "      <td>2023-03-31 07:05:00</td>\n",
       "      <td>NaN</td>\n",
       "      <td>NaN</td>\n",
       "    </tr>\n",
       "    <tr>\n",
       "      <th>98</th>\n",
       "      <td>IBM</td>\n",
       "      <td>2023-03-31 08:00:00</td>\n",
       "      <td>124.957</td>\n",
       "      <td>124.962</td>\n",
       "      <td>124.901</td>\n",
       "      <td>124.923</td>\n",
       "      <td>155.0</td>\n",
       "      <td>2023-03-31 08:00:00</td>\n",
       "      <td>NaN</td>\n",
       "      <td>NaN</td>\n",
       "    </tr>\n",
       "    <tr>\n",
       "      <th>97</th>\n",
       "      <td>IBM</td>\n",
       "      <td>2023-03-31 08:20:00</td>\n",
       "      <td>124.590</td>\n",
       "      <td>124.595</td>\n",
       "      <td>124.535</td>\n",
       "      <td>124.556</td>\n",
       "      <td>100.0</td>\n",
       "      <td>2023-03-31 08:20:00</td>\n",
       "      <td>NaN</td>\n",
       "      <td>NaN</td>\n",
       "    </tr>\n",
       "    <tr>\n",
       "      <th>96</th>\n",
       "      <td>IBM</td>\n",
       "      <td>2023-03-31 08:30:00</td>\n",
       "      <td>125.092</td>\n",
       "      <td>125.097</td>\n",
       "      <td>125.036</td>\n",
       "      <td>125.058</td>\n",
       "      <td>105.0</td>\n",
       "      <td>2023-03-31 08:30:00</td>\n",
       "      <td>NaN</td>\n",
       "      <td>NaN</td>\n",
       "    </tr>\n",
       "    <tr>\n",
       "      <th>95</th>\n",
       "      <td>IBM</td>\n",
       "      <td>2023-03-31 08:40:00</td>\n",
       "      <td>124.754</td>\n",
       "      <td>124.759</td>\n",
       "      <td>124.698</td>\n",
       "      <td>124.720</td>\n",
       "      <td>346.0</td>\n",
       "      <td>2023-03-31 08:40:00</td>\n",
       "      <td>NaN</td>\n",
       "      <td>NaN</td>\n",
       "    </tr>\n",
       "  </tbody>\n",
       "</table>\n",
       "</div>"
      ],
      "text/plain": [
       "   symbol           timeseries     open     high      low    close  volume  \\\n",
       "99    IBM  2023-03-31 07:05:00  124.802  124.807  124.747  124.769   200.0   \n",
       "98    IBM  2023-03-31 08:00:00  124.957  124.962  124.901  124.923   155.0   \n",
       "97    IBM  2023-03-31 08:20:00  124.590  124.595  124.535  124.556   100.0   \n",
       "96    IBM  2023-03-31 08:30:00  125.092  125.097  125.036  125.058   105.0   \n",
       "95    IBM  2023-03-31 08:40:00  124.754  124.759  124.698  124.720   346.0   \n",
       "\n",
       "                  date  7_day_SMA  30_day_SMA  \n",
       "99 2023-03-31 07:05:00        NaN         NaN  \n",
       "98 2023-03-31 08:00:00        NaN         NaN  \n",
       "97 2023-03-31 08:20:00        NaN         NaN  \n",
       "96 2023-03-31 08:30:00        NaN         NaN  \n",
       "95 2023-03-31 08:40:00        NaN         NaN  "
      ]
     },
     "execution_count": 21,
     "metadata": {},
     "output_type": "execute_result"
    }
   ],
   "source": [
    "pandas_df.head()"
   ]
  },
  {
   "cell_type": "code",
   "execution_count": 25,
   "metadata": {},
   "outputs": [
    {
     "data": {
      "application/vnd.plotly.v1+json": {
       "config": {
        "plotlyServerURL": "https://plot.ly"
       },
       "data": [
        {
         "alignmentgroup": "True",
         "hovertemplate": "symbol=IBM<br>timeseries=%{x}<br>volume=%{y}<extra></extra>",
         "legendgroup": "IBM",
         "marker": {
          "color": "#636efa",
          "pattern": {
           "shape": ""
          }
         },
         "name": "IBM",
         "offsetgroup": "IBM",
         "orientation": "v",
         "showlegend": true,
         "textposition": "auto",
         "type": "bar",
         "x": [
          "2023-03-31 07:05:00",
          "2023-03-31 08:00:00",
          "2023-03-31 08:20:00",
          "2023-03-31 08:30:00",
          "2023-03-31 08:40:00",
          "2023-03-31 08:55:00",
          "2023-03-31 09:15:00",
          "2023-03-31 09:30:00",
          "2023-03-31 09:35:00",
          "2023-03-31 09:40:00",
          "2023-03-31 09:45:00",
          "2023-03-31 09:50:00",
          "2023-03-31 09:55:00",
          "2023-03-31 10:00:00",
          "2023-03-31 10:05:00",
          "2023-03-31 10:10:00",
          "2023-03-31 10:15:00",
          "2023-03-31 10:20:00",
          "2023-03-31 10:25:00",
          "2023-03-31 10:30:00",
          "2023-03-31 10:35:00",
          "2023-03-31 10:40:00",
          "2023-03-31 10:45:00",
          "2023-03-31 10:50:00",
          "2023-03-31 10:55:00",
          "2023-03-31 11:00:00",
          "2023-03-31 11:05:00",
          "2023-03-31 11:10:00",
          "2023-03-31 11:15:00",
          "2023-03-31 11:20:00",
          "2023-03-31 11:25:00",
          "2023-03-31 11:30:00",
          "2023-03-31 11:35:00",
          "2023-03-31 11:40:00",
          "2023-03-31 11:45:00",
          "2023-03-31 11:50:00",
          "2023-03-31 11:55:00",
          "2023-03-31 12:00:00",
          "2023-03-31 12:05:00",
          "2023-03-31 12:10:00",
          "2023-03-31 12:15:00",
          "2023-03-31 12:20:00",
          "2023-03-31 12:25:00",
          "2023-03-31 12:30:00",
          "2023-03-31 12:35:00",
          "2023-03-31 12:40:00",
          "2023-03-31 12:45:00",
          "2023-03-31 12:50:00",
          "2023-03-31 12:55:00",
          "2023-03-31 13:00:00",
          "2023-03-31 13:05:00",
          "2023-03-31 13:10:00",
          "2023-03-31 13:15:00",
          "2023-03-31 13:20:00",
          "2023-03-31 13:25:00",
          "2023-03-31 13:30:00",
          "2023-03-31 13:35:00",
          "2023-03-31 13:40:00",
          "2023-03-31 13:45:00",
          "2023-03-31 13:50:00",
          "2023-03-31 13:55:00",
          "2023-03-31 14:00:00",
          "2023-03-31 14:05:00",
          "2023-03-31 14:10:00",
          "2023-03-31 14:15:00",
          "2023-03-31 14:20:00",
          "2023-03-31 14:25:00",
          "2023-03-31 14:30:00",
          "2023-03-31 14:35:00",
          "2023-03-31 14:40:00",
          "2023-03-31 14:45:00",
          "2023-03-31 14:50:00",
          "2023-03-31 14:55:00",
          "2023-03-31 15:00:00",
          "2023-03-31 15:05:00",
          "2023-03-31 15:10:00",
          "2023-03-31 15:15:00",
          "2023-03-31 15:20:00",
          "2023-03-31 15:25:00",
          "2023-03-31 15:30:00",
          "2023-03-31 15:35:00",
          "2023-03-31 15:40:00",
          "2023-03-31 15:45:00",
          "2023-03-31 15:50:00",
          "2023-03-31 15:55:00",
          "2023-03-31 16:00:00",
          "2023-03-31 16:05:00",
          "2023-03-31 16:10:00",
          "2023-03-31 16:15:00",
          "2023-03-31 16:20:00",
          "2023-03-31 16:25:00",
          "2023-03-31 16:35:00",
          "2023-03-31 16:45:00",
          "2023-03-31 16:50:00",
          "2023-03-31 16:55:00",
          "2023-03-31 17:20:00",
          "2023-03-31 17:30:00",
          "2023-03-31 17:45:00",
          "2023-03-31 19:00:00",
          "2023-03-31 19:40:00"
         ],
         "xaxis": "x",
         "y": [
          200,
          155,
          100,
          105,
          346,
          785,
          100,
          62482,
          20440,
          12708,
          22843,
          13854,
          17403,
          13162,
          8957,
          11399,
          18496,
          15918,
          23130,
          23507,
          20397,
          15816,
          32413,
          23105,
          21317,
          13177,
          11288,
          19385,
          13486,
          11786,
          15815,
          19042,
          15468,
          30494,
          17963,
          21192,
          7531,
          17055,
          13805,
          12141,
          7975,
          19731,
          31692,
          35907,
          21664,
          21771,
          17385,
          13035,
          18286,
          14567,
          20881,
          10895,
          13820,
          19527,
          24607,
          28090,
          15608,
          8372,
          8784,
          14971,
          14679,
          25245,
          16370,
          13867,
          13727,
          12301,
          14127,
          14188,
          17449,
          17611,
          15483,
          14587,
          28609,
          36970,
          37101,
          26143,
          29319,
          40933,
          53625,
          44057,
          42308,
          33406,
          90358,
          195094,
          445875,
          1201183,
          36885,
          3215,
          83018,
          148,
          100,
          200,
          1400,
          100,
          900,
          150,
          241,
          1038,
          135,
          100
         ],
         "yaxis": "y"
        }
       ],
       "layout": {
        "barmode": "relative",
        "legend": {
         "title": {
          "text": "symbol"
         },
         "tracegroupgap": 0
        },
        "template": {
         "data": {
          "bar": [
           {
            "error_x": {
             "color": "#2a3f5f"
            },
            "error_y": {
             "color": "#2a3f5f"
            },
            "marker": {
             "line": {
              "color": "#E5ECF6",
              "width": 0.5
             },
             "pattern": {
              "fillmode": "overlay",
              "size": 10,
              "solidity": 0.2
             }
            },
            "type": "bar"
           }
          ],
          "barpolar": [
           {
            "marker": {
             "line": {
              "color": "#E5ECF6",
              "width": 0.5
             },
             "pattern": {
              "fillmode": "overlay",
              "size": 10,
              "solidity": 0.2
             }
            },
            "type": "barpolar"
           }
          ],
          "carpet": [
           {
            "aaxis": {
             "endlinecolor": "#2a3f5f",
             "gridcolor": "white",
             "linecolor": "white",
             "minorgridcolor": "white",
             "startlinecolor": "#2a3f5f"
            },
            "baxis": {
             "endlinecolor": "#2a3f5f",
             "gridcolor": "white",
             "linecolor": "white",
             "minorgridcolor": "white",
             "startlinecolor": "#2a3f5f"
            },
            "type": "carpet"
           }
          ],
          "choropleth": [
           {
            "colorbar": {
             "outlinewidth": 0,
             "ticks": ""
            },
            "type": "choropleth"
           }
          ],
          "contour": [
           {
            "colorbar": {
             "outlinewidth": 0,
             "ticks": ""
            },
            "colorscale": [
             [
              0,
              "#0d0887"
             ],
             [
              0.1111111111111111,
              "#46039f"
             ],
             [
              0.2222222222222222,
              "#7201a8"
             ],
             [
              0.3333333333333333,
              "#9c179e"
             ],
             [
              0.4444444444444444,
              "#bd3786"
             ],
             [
              0.5555555555555556,
              "#d8576b"
             ],
             [
              0.6666666666666666,
              "#ed7953"
             ],
             [
              0.7777777777777778,
              "#fb9f3a"
             ],
             [
              0.8888888888888888,
              "#fdca26"
             ],
             [
              1,
              "#f0f921"
             ]
            ],
            "type": "contour"
           }
          ],
          "contourcarpet": [
           {
            "colorbar": {
             "outlinewidth": 0,
             "ticks": ""
            },
            "type": "contourcarpet"
           }
          ],
          "heatmap": [
           {
            "colorbar": {
             "outlinewidth": 0,
             "ticks": ""
            },
            "colorscale": [
             [
              0,
              "#0d0887"
             ],
             [
              0.1111111111111111,
              "#46039f"
             ],
             [
              0.2222222222222222,
              "#7201a8"
             ],
             [
              0.3333333333333333,
              "#9c179e"
             ],
             [
              0.4444444444444444,
              "#bd3786"
             ],
             [
              0.5555555555555556,
              "#d8576b"
             ],
             [
              0.6666666666666666,
              "#ed7953"
             ],
             [
              0.7777777777777778,
              "#fb9f3a"
             ],
             [
              0.8888888888888888,
              "#fdca26"
             ],
             [
              1,
              "#f0f921"
             ]
            ],
            "type": "heatmap"
           }
          ],
          "heatmapgl": [
           {
            "colorbar": {
             "outlinewidth": 0,
             "ticks": ""
            },
            "colorscale": [
             [
              0,
              "#0d0887"
             ],
             [
              0.1111111111111111,
              "#46039f"
             ],
             [
              0.2222222222222222,
              "#7201a8"
             ],
             [
              0.3333333333333333,
              "#9c179e"
             ],
             [
              0.4444444444444444,
              "#bd3786"
             ],
             [
              0.5555555555555556,
              "#d8576b"
             ],
             [
              0.6666666666666666,
              "#ed7953"
             ],
             [
              0.7777777777777778,
              "#fb9f3a"
             ],
             [
              0.8888888888888888,
              "#fdca26"
             ],
             [
              1,
              "#f0f921"
             ]
            ],
            "type": "heatmapgl"
           }
          ],
          "histogram": [
           {
            "marker": {
             "pattern": {
              "fillmode": "overlay",
              "size": 10,
              "solidity": 0.2
             }
            },
            "type": "histogram"
           }
          ],
          "histogram2d": [
           {
            "colorbar": {
             "outlinewidth": 0,
             "ticks": ""
            },
            "colorscale": [
             [
              0,
              "#0d0887"
             ],
             [
              0.1111111111111111,
              "#46039f"
             ],
             [
              0.2222222222222222,
              "#7201a8"
             ],
             [
              0.3333333333333333,
              "#9c179e"
             ],
             [
              0.4444444444444444,
              "#bd3786"
             ],
             [
              0.5555555555555556,
              "#d8576b"
             ],
             [
              0.6666666666666666,
              "#ed7953"
             ],
             [
              0.7777777777777778,
              "#fb9f3a"
             ],
             [
              0.8888888888888888,
              "#fdca26"
             ],
             [
              1,
              "#f0f921"
             ]
            ],
            "type": "histogram2d"
           }
          ],
          "histogram2dcontour": [
           {
            "colorbar": {
             "outlinewidth": 0,
             "ticks": ""
            },
            "colorscale": [
             [
              0,
              "#0d0887"
             ],
             [
              0.1111111111111111,
              "#46039f"
             ],
             [
              0.2222222222222222,
              "#7201a8"
             ],
             [
              0.3333333333333333,
              "#9c179e"
             ],
             [
              0.4444444444444444,
              "#bd3786"
             ],
             [
              0.5555555555555556,
              "#d8576b"
             ],
             [
              0.6666666666666666,
              "#ed7953"
             ],
             [
              0.7777777777777778,
              "#fb9f3a"
             ],
             [
              0.8888888888888888,
              "#fdca26"
             ],
             [
              1,
              "#f0f921"
             ]
            ],
            "type": "histogram2dcontour"
           }
          ],
          "mesh3d": [
           {
            "colorbar": {
             "outlinewidth": 0,
             "ticks": ""
            },
            "type": "mesh3d"
           }
          ],
          "parcoords": [
           {
            "line": {
             "colorbar": {
              "outlinewidth": 0,
              "ticks": ""
             }
            },
            "type": "parcoords"
           }
          ],
          "pie": [
           {
            "automargin": true,
            "type": "pie"
           }
          ],
          "scatter": [
           {
            "fillpattern": {
             "fillmode": "overlay",
             "size": 10,
             "solidity": 0.2
            },
            "type": "scatter"
           }
          ],
          "scatter3d": [
           {
            "line": {
             "colorbar": {
              "outlinewidth": 0,
              "ticks": ""
             }
            },
            "marker": {
             "colorbar": {
              "outlinewidth": 0,
              "ticks": ""
             }
            },
            "type": "scatter3d"
           }
          ],
          "scattercarpet": [
           {
            "marker": {
             "colorbar": {
              "outlinewidth": 0,
              "ticks": ""
             }
            },
            "type": "scattercarpet"
           }
          ],
          "scattergeo": [
           {
            "marker": {
             "colorbar": {
              "outlinewidth": 0,
              "ticks": ""
             }
            },
            "type": "scattergeo"
           }
          ],
          "scattergl": [
           {
            "marker": {
             "colorbar": {
              "outlinewidth": 0,
              "ticks": ""
             }
            },
            "type": "scattergl"
           }
          ],
          "scattermapbox": [
           {
            "marker": {
             "colorbar": {
              "outlinewidth": 0,
              "ticks": ""
             }
            },
            "type": "scattermapbox"
           }
          ],
          "scatterpolar": [
           {
            "marker": {
             "colorbar": {
              "outlinewidth": 0,
              "ticks": ""
             }
            },
            "type": "scatterpolar"
           }
          ],
          "scatterpolargl": [
           {
            "marker": {
             "colorbar": {
              "outlinewidth": 0,
              "ticks": ""
             }
            },
            "type": "scatterpolargl"
           }
          ],
          "scatterternary": [
           {
            "marker": {
             "colorbar": {
              "outlinewidth": 0,
              "ticks": ""
             }
            },
            "type": "scatterternary"
           }
          ],
          "surface": [
           {
            "colorbar": {
             "outlinewidth": 0,
             "ticks": ""
            },
            "colorscale": [
             [
              0,
              "#0d0887"
             ],
             [
              0.1111111111111111,
              "#46039f"
             ],
             [
              0.2222222222222222,
              "#7201a8"
             ],
             [
              0.3333333333333333,
              "#9c179e"
             ],
             [
              0.4444444444444444,
              "#bd3786"
             ],
             [
              0.5555555555555556,
              "#d8576b"
             ],
             [
              0.6666666666666666,
              "#ed7953"
             ],
             [
              0.7777777777777778,
              "#fb9f3a"
             ],
             [
              0.8888888888888888,
              "#fdca26"
             ],
             [
              1,
              "#f0f921"
             ]
            ],
            "type": "surface"
           }
          ],
          "table": [
           {
            "cells": {
             "fill": {
              "color": "#EBF0F8"
             },
             "line": {
              "color": "white"
             }
            },
            "header": {
             "fill": {
              "color": "#C8D4E3"
             },
             "line": {
              "color": "white"
             }
            },
            "type": "table"
           }
          ]
         },
         "layout": {
          "annotationdefaults": {
           "arrowcolor": "#2a3f5f",
           "arrowhead": 0,
           "arrowwidth": 1
          },
          "autotypenumbers": "strict",
          "coloraxis": {
           "colorbar": {
            "outlinewidth": 0,
            "ticks": ""
           }
          },
          "colorscale": {
           "diverging": [
            [
             0,
             "#8e0152"
            ],
            [
             0.1,
             "#c51b7d"
            ],
            [
             0.2,
             "#de77ae"
            ],
            [
             0.3,
             "#f1b6da"
            ],
            [
             0.4,
             "#fde0ef"
            ],
            [
             0.5,
             "#f7f7f7"
            ],
            [
             0.6,
             "#e6f5d0"
            ],
            [
             0.7,
             "#b8e186"
            ],
            [
             0.8,
             "#7fbc41"
            ],
            [
             0.9,
             "#4d9221"
            ],
            [
             1,
             "#276419"
            ]
           ],
           "sequential": [
            [
             0,
             "#0d0887"
            ],
            [
             0.1111111111111111,
             "#46039f"
            ],
            [
             0.2222222222222222,
             "#7201a8"
            ],
            [
             0.3333333333333333,
             "#9c179e"
            ],
            [
             0.4444444444444444,
             "#bd3786"
            ],
            [
             0.5555555555555556,
             "#d8576b"
            ],
            [
             0.6666666666666666,
             "#ed7953"
            ],
            [
             0.7777777777777778,
             "#fb9f3a"
            ],
            [
             0.8888888888888888,
             "#fdca26"
            ],
            [
             1,
             "#f0f921"
            ]
           ],
           "sequentialminus": [
            [
             0,
             "#0d0887"
            ],
            [
             0.1111111111111111,
             "#46039f"
            ],
            [
             0.2222222222222222,
             "#7201a8"
            ],
            [
             0.3333333333333333,
             "#9c179e"
            ],
            [
             0.4444444444444444,
             "#bd3786"
            ],
            [
             0.5555555555555556,
             "#d8576b"
            ],
            [
             0.6666666666666666,
             "#ed7953"
            ],
            [
             0.7777777777777778,
             "#fb9f3a"
            ],
            [
             0.8888888888888888,
             "#fdca26"
            ],
            [
             1,
             "#f0f921"
            ]
           ]
          },
          "colorway": [
           "#636efa",
           "#EF553B",
           "#00cc96",
           "#ab63fa",
           "#FFA15A",
           "#19d3f3",
           "#FF6692",
           "#B6E880",
           "#FF97FF",
           "#FECB52"
          ],
          "font": {
           "color": "#2a3f5f"
          },
          "geo": {
           "bgcolor": "white",
           "lakecolor": "white",
           "landcolor": "#E5ECF6",
           "showlakes": true,
           "showland": true,
           "subunitcolor": "white"
          },
          "hoverlabel": {
           "align": "left"
          },
          "hovermode": "closest",
          "mapbox": {
           "style": "light"
          },
          "paper_bgcolor": "white",
          "plot_bgcolor": "#E5ECF6",
          "polar": {
           "angularaxis": {
            "gridcolor": "white",
            "linecolor": "white",
            "ticks": ""
           },
           "bgcolor": "#E5ECF6",
           "radialaxis": {
            "gridcolor": "white",
            "linecolor": "white",
            "ticks": ""
           }
          },
          "scene": {
           "xaxis": {
            "backgroundcolor": "#E5ECF6",
            "gridcolor": "white",
            "gridwidth": 2,
            "linecolor": "white",
            "showbackground": true,
            "ticks": "",
            "zerolinecolor": "white"
           },
           "yaxis": {
            "backgroundcolor": "#E5ECF6",
            "gridcolor": "white",
            "gridwidth": 2,
            "linecolor": "white",
            "showbackground": true,
            "ticks": "",
            "zerolinecolor": "white"
           },
           "zaxis": {
            "backgroundcolor": "#E5ECF6",
            "gridcolor": "white",
            "gridwidth": 2,
            "linecolor": "white",
            "showbackground": true,
            "ticks": "",
            "zerolinecolor": "white"
           }
          },
          "shapedefaults": {
           "line": {
            "color": "#2a3f5f"
           }
          },
          "ternary": {
           "aaxis": {
            "gridcolor": "white",
            "linecolor": "white",
            "ticks": ""
           },
           "baxis": {
            "gridcolor": "white",
            "linecolor": "white",
            "ticks": ""
           },
           "bgcolor": "#E5ECF6",
           "caxis": {
            "gridcolor": "white",
            "linecolor": "white",
            "ticks": ""
           }
          },
          "title": {
           "x": 0.05
          },
          "xaxis": {
           "automargin": true,
           "gridcolor": "white",
           "linecolor": "white",
           "ticks": "",
           "title": {
            "standoff": 15
           },
           "zerolinecolor": "white",
           "zerolinewidth": 2
          },
          "yaxis": {
           "automargin": true,
           "gridcolor": "white",
           "linecolor": "white",
           "ticks": "",
           "title": {
            "standoff": 15
           },
           "zerolinecolor": "white",
           "zerolinewidth": 2
          }
         }
        },
        "title": {
         "text": "Trading Volume Over Time"
        },
        "xaxis": {
         "anchor": "y",
         "domain": [
          0,
          1
         ],
         "title": {
          "text": "timeseries"
         }
        },
        "yaxis": {
         "anchor": "x",
         "domain": [
          0,
          1
         ],
         "title": {
          "text": "volume"
         }
        }
       }
      }
     },
     "metadata": {},
     "output_type": "display_data"
    }
   ],
   "source": [
    "import plotly.express as px\n",
    "fig = px.bar(pandas_df, x='timeseries', y='volume', color='symbol', title='Trading Volume Over Time')\n",
    "fig.show()\n"
   ]
  },
  {
   "cell_type": "code",
   "execution_count": 24,
   "metadata": {},
   "outputs": [
    {
     "data": {
      "application/vnd.plotly.v1+json": {
       "config": {
        "plotlyServerURL": "https://plot.ly"
       },
       "data": [
        {
         "close": [
          "\"126.3110\"",
          "\"126.3110\"",
          "\"126.1960\"",
          "\"126.3600\"",
          "\"126.4370\"",
          "\"126.3980\"",
          "\"126.3110\"",
          "\"126.3110\"",
          "\"126.2150\"",
          "\"126.4010\"",
          "\"126.5040\"",
          "\"126.3980\"",
          "\"126.3980\"",
          "\"126.3980\"",
          "\"126.3980\"",
          "\"126.3790\"",
          "\"126.1960\"",
          "\"126.0650\"",
          "\"126.1470\"",
          "\"126.1470\"",
          "\"126.2680\"",
          "\"126.3600\"",
          "\"126.2870\"",
          "\"126.1280\"",
          "\"126.0320\"",
          "\"125.9220\"",
          "\"125.9840\"",
          "\"125.7810\"",
          "\"125.9060\"",
          "\"125.8390\"",
          "\"125.8000\"",
          "\"125.7520\"",
          "\"125.8200\"",
          "\"125.8100\"",
          "\"125.7960\"",
          "\"125.8100\"",
          "\"125.7910\"",
          "\"125.7420\"",
          "\"125.7470\"",
          "\"125.6080\"",
          "\"125.5030\"",
          "\"125.5400\"",
          "\"125.5210\"",
          "\"125.5110\"",
          "\"125.5500\"",
          "\"125.5590\"",
          "\"125.6270\"",
          "\"125.6800\"",
          "\"125.7040\"",
          "\"125.7520\"",
          "\"125.7330\"",
          "\"125.6720\"",
          "\"125.6940\"",
          "\"125.7230\"",
          "\"125.7910\"",
          "\"125.7230\"",
          "\"125.8100\"",
          "\"125.7140\"",
          "\"125.6850\"",
          "\"125.6890\"",
          "\"125.6290\"",
          "\"125.5110\"",
          "\"125.5790\"",
          "\"125.4440\"",
          "\"125.5110\"",
          "\"125.4970\"",
          "\"125.3660\"",
          "\"125.4050\"",
          "\"125.4000\"",
          "\"125.4920\"",
          "\"125.5210\"",
          "\"125.3570\"",
          "\"125.2750\"",
          "\"125.2510\"",
          "\"125.2700\"",
          "\"125.2990\"",
          "\"125.3370\"",
          "\"125.5210\"",
          "\"125.2990\"",
          "\"125.2020\"",
          "\"125.1820\"",
          "\"125.1200\"",
          "\"125.0480\"",
          "\"125.1350\"",
          "\"125.2700\"",
          "\"125.1930\"",
          "\"125.2120\"",
          "\"125.1450\"",
          "\"125.1540\"",
          "\"125.1540\"",
          "\"125.1350\"",
          "\"125.0300\"",
          "\"124.9240\"",
          "\"124.9330\"",
          "\"124.9610\"",
          "\"124.7200\"",
          "\"125.0580\"",
          "\"124.5560\"",
          "\"124.9230\"",
          "\"124.7690\""
         ],
         "high": [
          "\"126.3510\"",
          "\"126.3510\"",
          "\"126.2350\"",
          "\"126.3990\"",
          "\"126.4760\"",
          "\"126.4760\"",
          "\"126.3510\"",
          "\"126.3510\"",
          "\"126.2540\"",
          "\"126.4400\"",
          "\"126.5430\"",
          "\"126.4370\"",
          "\"126.4370\"",
          "\"126.4370\"",
          "\"126.4370\"",
          "\"126.5730\"",
          "\"126.3510\"",
          "\"126.2160\"",
          "\"126.2250\"",
          "\"126.3020\"",
          "\"126.4470\"",
          "\"126.4370\"",
          "\"126.3270\"",
          "\"126.1720\"",
          "\"126.1000\"",
          "\"126.0230\"",
          "\"126.0610\"",
          "\"125.9460\"",
          "\"125.9750\"",
          "\"125.8900\"",
          "\"125.8590\"",
          "\"125.8730\"",
          "\"125.8680\"",
          "\"125.8490\"",
          "\"125.8970\"",
          "\"125.9020\"",
          "\"125.8300\"",
          "\"125.8200\"",
          "\"125.7910\"",
          "\"125.6660\"",
          "\"125.5790\"",
          "\"125.5890\"",
          "\"125.6130\"",
          "\"125.5790\"",
          "\"125.6220\"",
          "\"125.6760\"",
          "\"125.7240\"",
          "\"125.7720\"",
          "\"125.7980\"",
          "\"125.8110\"",
          "\"125.7720\"",
          "\"125.7720\"",
          "\"125.8390\"",
          "\"125.8490\"",
          "\"125.9020\"",
          "\"125.8590\"",
          "\"125.8590\"",
          "\"125.8390\"",
          "\"125.8200\"",
          "\"125.7290\"",
          "\"125.7040\"",
          "\"125.6270\"",
          "\"125.6370\"",
          "\"125.5500\"",
          "\"125.6270\"",
          "\"125.5410\"",
          "\"125.4730\"",
          "\"125.5110\"",
          "\"125.5600\"",
          "\"125.6180\"",
          "\"125.5690\"",
          "\"125.4340\"",
          "\"125.3620\"",
          "\"125.3190\"",
          "\"125.3670\"",
          "\"125.4570\"",
          "\"125.5940\"",
          "\"125.5890\"",
          "\"125.3380\"",
          "\"125.2900\"",
          "\"125.3190\"",
          "\"125.2420\"",
          "\"125.1640\"",
          "\"125.3010\"",
          "\"125.3190\"",
          "\"125.3090\"",
          "\"125.2700\"",
          "\"125.2700\"",
          "\"125.2510\"",
          "\"125.3420\"",
          "\"125.1930\"",
          "\"125.0870\"",
          "\"125.1930\"",
          "\"124.9710\"",
          "\"125.0000\"",
          "\"124.7590\"",
          "\"125.0970\"",
          "\"124.5950\"",
          "\"124.9620\"",
          "\"124.8070\""
         ],
         "low": [
          "\"126.2890\"",
          "\"126.2890\"",
          "\"126.1730\"",
          "\"126.3370\"",
          "\"126.4140\"",
          "\"126.3760\"",
          "\"126.2890\"",
          "\"126.2890\"",
          "\"126.1930\"",
          "\"126.3790\"",
          "\"126.4820\"",
          "\"126.3760\"",
          "\"126.3760\"",
          "\"126.3760\"",
          "\"126.3760\"",
          "\"126.1590\"",
          "\"126.0190\"",
          "\"125.9930\"",
          "\"126.0770\"",
          "\"126.0870\"",
          "\"126.2120\"",
          "\"126.2410\"",
          "\"126.0870\"",
          "\"126.0000\"",
          "\"125.8940\"",
          "\"125.8070\"",
          "\"125.7590\"",
          "\"125.7440\"",
          "\"125.7970\"",
          "\"125.7590\"",
          "\"125.7110\"",
          "\"125.7300\"",
          "\"125.7200\"",
          "\"125.7440\"",
          "\"125.7690\"",
          "\"125.7590\"",
          "\"125.7110\"",
          "\"125.6910\"",
          "\"125.5850\"",
          "\"125.4600\"",
          "\"125.4600\"",
          "\"125.4890\"",
          "\"125.4790\"",
          "\"125.4500\"",
          "\"125.4600\"",
          "\"125.5230\"",
          "\"125.6050\"",
          "\"125.6240\"",
          "\"125.6430\"",
          "\"125.6430\"",
          "\"125.6530\"",
          "\"125.6240\"",
          "\"125.6460\"",
          "\"125.6240\"",
          "\"125.6630\"",
          "\"125.6820\"",
          "\"125.6910\"",
          "\"125.6570\"",
          "\"125.6340\"",
          "\"125.5950\"",
          "\"125.4990\"",
          "\"125.4690\"",
          "\"125.4160\"",
          "\"125.4170\"",
          "\"125.4790\"",
          "\"125.3350\"",
          "\"125.2960\"",
          "\"125.3680\"",
          "\"125.3640\"",
          "\"125.4600\"",
          "\"125.3230\"",
          "\"125.2190\"",
          "\"125.2190\"",
          "\"125.1900\"",
          "\"125.2090\"",
          "\"125.2770\"",
          "\"125.2960\"",
          "\"125.2870\"",
          "\"125.1610\"",
          "\"125.1320\"",
          "\"125.0790\"",
          "\"124.9970\"",
          "\"124.9780\"",
          "\"125.0650\"",
          "\"125.1610\"",
          "\"125.1520\"",
          "\"125.0840\"",
          "\"125.0840\"",
          "\"125.0650\"",
          "\"125.0840\"",
          "\"124.9880\"",
          "\"124.7660\"",
          "\"124.8140\"",
          "\"124.9110\"",
          "\"124.9390\"",
          "\"124.6980\"",
          "\"125.0360\"",
          "\"124.5350\"",
          "\"124.9010\"",
          "\"124.7470\""
         ],
         "open": [
          "\"126.3450\"",
          "\"126.3450\"",
          "\"126.2300\"",
          "\"126.3940\"",
          "\"126.4710\"",
          "\"126.4710\"",
          "\"126.3450\"",
          "\"126.3450\"",
          "\"126.2490\"",
          "\"126.4350\"",
          "\"126.5380\"",
          "\"126.4320\"",
          "\"126.4320\"",
          "\"126.4320\"",
          "\"126.4320\"",
          "\"126.2300\"",
          "\"126.1040\"",
          "\"126.1820\"",
          "\"126.1740\"",
          "\"126.2880\"",
          "\"126.4130\"",
          "\"126.3170\"",
          "\"126.1620\"",
          "\"126.0660\"",
          "\"125.9500\"",
          "\"126.0180\"",
          "\"125.8250\"",
          "\"125.9400\"",
          "\"125.8780\"",
          "\"125.8150\"",
          "\"125.7860\"",
          "\"125.8540\"",
          "\"125.8440\"",
          "\"125.8250\"",
          "\"125.8440\"",
          "\"125.8340\"",
          "\"125.7860\"",
          "\"125.7860\"",
          "\"125.6510\"",
          "\"125.5350\"",
          "\"125.5640\"",
          "\"125.5630\"",
          "\"125.5550\"",
          "\"125.5740\"",
          "\"125.6120\"",
          "\"125.6700\"",
          "\"125.6990\"",
          "\"125.7480\"",
          "\"125.7670\"",
          "\"125.7550\"",
          "\"125.7090\"",
          "\"125.7190\"",
          "\"125.7570\"",
          "\"125.8210\"",
          "\"125.7480\"",
          "\"125.8340\"",
          "\"125.7480\"",
          "\"125.7130\"",
          "\"125.7230\"",
          "\"125.6700\"",
          "\"125.5550\"",
          "\"125.6170\"",
          "\"125.4730\"",
          "\"125.5450\"",
          "\"125.5350\"",
          "\"125.3910\"",
          "\"125.4200\"",
          "\"125.4490\"",
          "\"125.5260\"",
          "\"125.5640\"",
          "\"125.3810\"",
          "\"125.3090\"",
          "\"125.2850\"",
          "\"125.3040\"",
          "\"125.3240\"",
          "\"125.3710\"",
          "\"125.5640\"",
          "\"125.3620\"",
          "\"125.2650\"",
          "\"125.2270\"",
          "\"125.1450\"",
          "\"125.0630\"",
          "\"125.1590\"",
          "\"125.2890\"",
          "\"125.2240\"",
          "\"125.2850\"",
          "\"125.1690\"",
          "\"125.1980\"",
          "\"125.2320\"",
          "\"125.1590\"",
          "\"125.0720\"",
          "\"124.9370\"",
          "\"124.8700\"",
          "\"124.9660\"",
          "\"124.9950\"",
          "\"124.7540\"",
          "\"125.0920\"",
          "\"124.5900\"",
          "\"124.9570\"",
          "\"124.8020\""
         ],
         "type": "candlestick",
         "x": [
          "2023-03-31 07:05:00",
          "2023-03-31 08:00:00",
          "2023-03-31 08:20:00",
          "2023-03-31 08:30:00",
          "2023-03-31 08:40:00",
          "2023-03-31 08:55:00",
          "2023-03-31 09:15:00",
          "2023-03-31 09:30:00",
          "2023-03-31 09:35:00",
          "2023-03-31 09:40:00",
          "2023-03-31 09:45:00",
          "2023-03-31 09:50:00",
          "2023-03-31 09:55:00",
          "2023-03-31 10:00:00",
          "2023-03-31 10:05:00",
          "2023-03-31 10:10:00",
          "2023-03-31 10:15:00",
          "2023-03-31 10:20:00",
          "2023-03-31 10:25:00",
          "2023-03-31 10:30:00",
          "2023-03-31 10:35:00",
          "2023-03-31 10:40:00",
          "2023-03-31 10:45:00",
          "2023-03-31 10:50:00",
          "2023-03-31 10:55:00",
          "2023-03-31 11:00:00",
          "2023-03-31 11:05:00",
          "2023-03-31 11:10:00",
          "2023-03-31 11:15:00",
          "2023-03-31 11:20:00",
          "2023-03-31 11:25:00",
          "2023-03-31 11:30:00",
          "2023-03-31 11:35:00",
          "2023-03-31 11:40:00",
          "2023-03-31 11:45:00",
          "2023-03-31 11:50:00",
          "2023-03-31 11:55:00",
          "2023-03-31 12:00:00",
          "2023-03-31 12:05:00",
          "2023-03-31 12:10:00",
          "2023-03-31 12:15:00",
          "2023-03-31 12:20:00",
          "2023-03-31 12:25:00",
          "2023-03-31 12:30:00",
          "2023-03-31 12:35:00",
          "2023-03-31 12:40:00",
          "2023-03-31 12:45:00",
          "2023-03-31 12:50:00",
          "2023-03-31 12:55:00",
          "2023-03-31 13:00:00",
          "2023-03-31 13:05:00",
          "2023-03-31 13:10:00",
          "2023-03-31 13:15:00",
          "2023-03-31 13:20:00",
          "2023-03-31 13:25:00",
          "2023-03-31 13:30:00",
          "2023-03-31 13:35:00",
          "2023-03-31 13:40:00",
          "2023-03-31 13:45:00",
          "2023-03-31 13:50:00",
          "2023-03-31 13:55:00",
          "2023-03-31 14:00:00",
          "2023-03-31 14:05:00",
          "2023-03-31 14:10:00",
          "2023-03-31 14:15:00",
          "2023-03-31 14:20:00",
          "2023-03-31 14:25:00",
          "2023-03-31 14:30:00",
          "2023-03-31 14:35:00",
          "2023-03-31 14:40:00",
          "2023-03-31 14:45:00",
          "2023-03-31 14:50:00",
          "2023-03-31 14:55:00",
          "2023-03-31 15:00:00",
          "2023-03-31 15:05:00",
          "2023-03-31 15:10:00",
          "2023-03-31 15:15:00",
          "2023-03-31 15:20:00",
          "2023-03-31 15:25:00",
          "2023-03-31 15:30:00",
          "2023-03-31 15:35:00",
          "2023-03-31 15:40:00",
          "2023-03-31 15:45:00",
          "2023-03-31 15:50:00",
          "2023-03-31 15:55:00",
          "2023-03-31 16:00:00",
          "2023-03-31 16:05:00",
          "2023-03-31 16:10:00",
          "2023-03-31 16:15:00",
          "2023-03-31 16:20:00",
          "2023-03-31 16:25:00",
          "2023-03-31 16:35:00",
          "2023-03-31 16:45:00",
          "2023-03-31 16:50:00",
          "2023-03-31 16:55:00",
          "2023-03-31 17:20:00",
          "2023-03-31 17:30:00",
          "2023-03-31 17:45:00",
          "2023-03-31 19:00:00",
          "2023-03-31 19:40:00"
         ]
        }
       ],
       "layout": {
        "template": {
         "data": {
          "bar": [
           {
            "error_x": {
             "color": "#2a3f5f"
            },
            "error_y": {
             "color": "#2a3f5f"
            },
            "marker": {
             "line": {
              "color": "#E5ECF6",
              "width": 0.5
             },
             "pattern": {
              "fillmode": "overlay",
              "size": 10,
              "solidity": 0.2
             }
            },
            "type": "bar"
           }
          ],
          "barpolar": [
           {
            "marker": {
             "line": {
              "color": "#E5ECF6",
              "width": 0.5
             },
             "pattern": {
              "fillmode": "overlay",
              "size": 10,
              "solidity": 0.2
             }
            },
            "type": "barpolar"
           }
          ],
          "carpet": [
           {
            "aaxis": {
             "endlinecolor": "#2a3f5f",
             "gridcolor": "white",
             "linecolor": "white",
             "minorgridcolor": "white",
             "startlinecolor": "#2a3f5f"
            },
            "baxis": {
             "endlinecolor": "#2a3f5f",
             "gridcolor": "white",
             "linecolor": "white",
             "minorgridcolor": "white",
             "startlinecolor": "#2a3f5f"
            },
            "type": "carpet"
           }
          ],
          "choropleth": [
           {
            "colorbar": {
             "outlinewidth": 0,
             "ticks": ""
            },
            "type": "choropleth"
           }
          ],
          "contour": [
           {
            "colorbar": {
             "outlinewidth": 0,
             "ticks": ""
            },
            "colorscale": [
             [
              0,
              "#0d0887"
             ],
             [
              0.1111111111111111,
              "#46039f"
             ],
             [
              0.2222222222222222,
              "#7201a8"
             ],
             [
              0.3333333333333333,
              "#9c179e"
             ],
             [
              0.4444444444444444,
              "#bd3786"
             ],
             [
              0.5555555555555556,
              "#d8576b"
             ],
             [
              0.6666666666666666,
              "#ed7953"
             ],
             [
              0.7777777777777778,
              "#fb9f3a"
             ],
             [
              0.8888888888888888,
              "#fdca26"
             ],
             [
              1,
              "#f0f921"
             ]
            ],
            "type": "contour"
           }
          ],
          "contourcarpet": [
           {
            "colorbar": {
             "outlinewidth": 0,
             "ticks": ""
            },
            "type": "contourcarpet"
           }
          ],
          "heatmap": [
           {
            "colorbar": {
             "outlinewidth": 0,
             "ticks": ""
            },
            "colorscale": [
             [
              0,
              "#0d0887"
             ],
             [
              0.1111111111111111,
              "#46039f"
             ],
             [
              0.2222222222222222,
              "#7201a8"
             ],
             [
              0.3333333333333333,
              "#9c179e"
             ],
             [
              0.4444444444444444,
              "#bd3786"
             ],
             [
              0.5555555555555556,
              "#d8576b"
             ],
             [
              0.6666666666666666,
              "#ed7953"
             ],
             [
              0.7777777777777778,
              "#fb9f3a"
             ],
             [
              0.8888888888888888,
              "#fdca26"
             ],
             [
              1,
              "#f0f921"
             ]
            ],
            "type": "heatmap"
           }
          ],
          "heatmapgl": [
           {
            "colorbar": {
             "outlinewidth": 0,
             "ticks": ""
            },
            "colorscale": [
             [
              0,
              "#0d0887"
             ],
             [
              0.1111111111111111,
              "#46039f"
             ],
             [
              0.2222222222222222,
              "#7201a8"
             ],
             [
              0.3333333333333333,
              "#9c179e"
             ],
             [
              0.4444444444444444,
              "#bd3786"
             ],
             [
              0.5555555555555556,
              "#d8576b"
             ],
             [
              0.6666666666666666,
              "#ed7953"
             ],
             [
              0.7777777777777778,
              "#fb9f3a"
             ],
             [
              0.8888888888888888,
              "#fdca26"
             ],
             [
              1,
              "#f0f921"
             ]
            ],
            "type": "heatmapgl"
           }
          ],
          "histogram": [
           {
            "marker": {
             "pattern": {
              "fillmode": "overlay",
              "size": 10,
              "solidity": 0.2
             }
            },
            "type": "histogram"
           }
          ],
          "histogram2d": [
           {
            "colorbar": {
             "outlinewidth": 0,
             "ticks": ""
            },
            "colorscale": [
             [
              0,
              "#0d0887"
             ],
             [
              0.1111111111111111,
              "#46039f"
             ],
             [
              0.2222222222222222,
              "#7201a8"
             ],
             [
              0.3333333333333333,
              "#9c179e"
             ],
             [
              0.4444444444444444,
              "#bd3786"
             ],
             [
              0.5555555555555556,
              "#d8576b"
             ],
             [
              0.6666666666666666,
              "#ed7953"
             ],
             [
              0.7777777777777778,
              "#fb9f3a"
             ],
             [
              0.8888888888888888,
              "#fdca26"
             ],
             [
              1,
              "#f0f921"
             ]
            ],
            "type": "histogram2d"
           }
          ],
          "histogram2dcontour": [
           {
            "colorbar": {
             "outlinewidth": 0,
             "ticks": ""
            },
            "colorscale": [
             [
              0,
              "#0d0887"
             ],
             [
              0.1111111111111111,
              "#46039f"
             ],
             [
              0.2222222222222222,
              "#7201a8"
             ],
             [
              0.3333333333333333,
              "#9c179e"
             ],
             [
              0.4444444444444444,
              "#bd3786"
             ],
             [
              0.5555555555555556,
              "#d8576b"
             ],
             [
              0.6666666666666666,
              "#ed7953"
             ],
             [
              0.7777777777777778,
              "#fb9f3a"
             ],
             [
              0.8888888888888888,
              "#fdca26"
             ],
             [
              1,
              "#f0f921"
             ]
            ],
            "type": "histogram2dcontour"
           }
          ],
          "mesh3d": [
           {
            "colorbar": {
             "outlinewidth": 0,
             "ticks": ""
            },
            "type": "mesh3d"
           }
          ],
          "parcoords": [
           {
            "line": {
             "colorbar": {
              "outlinewidth": 0,
              "ticks": ""
             }
            },
            "type": "parcoords"
           }
          ],
          "pie": [
           {
            "automargin": true,
            "type": "pie"
           }
          ],
          "scatter": [
           {
            "fillpattern": {
             "fillmode": "overlay",
             "size": 10,
             "solidity": 0.2
            },
            "type": "scatter"
           }
          ],
          "scatter3d": [
           {
            "line": {
             "colorbar": {
              "outlinewidth": 0,
              "ticks": ""
             }
            },
            "marker": {
             "colorbar": {
              "outlinewidth": 0,
              "ticks": ""
             }
            },
            "type": "scatter3d"
           }
          ],
          "scattercarpet": [
           {
            "marker": {
             "colorbar": {
              "outlinewidth": 0,
              "ticks": ""
             }
            },
            "type": "scattercarpet"
           }
          ],
          "scattergeo": [
           {
            "marker": {
             "colorbar": {
              "outlinewidth": 0,
              "ticks": ""
             }
            },
            "type": "scattergeo"
           }
          ],
          "scattergl": [
           {
            "marker": {
             "colorbar": {
              "outlinewidth": 0,
              "ticks": ""
             }
            },
            "type": "scattergl"
           }
          ],
          "scattermapbox": [
           {
            "marker": {
             "colorbar": {
              "outlinewidth": 0,
              "ticks": ""
             }
            },
            "type": "scattermapbox"
           }
          ],
          "scatterpolar": [
           {
            "marker": {
             "colorbar": {
              "outlinewidth": 0,
              "ticks": ""
             }
            },
            "type": "scatterpolar"
           }
          ],
          "scatterpolargl": [
           {
            "marker": {
             "colorbar": {
              "outlinewidth": 0,
              "ticks": ""
             }
            },
            "type": "scatterpolargl"
           }
          ],
          "scatterternary": [
           {
            "marker": {
             "colorbar": {
              "outlinewidth": 0,
              "ticks": ""
             }
            },
            "type": "scatterternary"
           }
          ],
          "surface": [
           {
            "colorbar": {
             "outlinewidth": 0,
             "ticks": ""
            },
            "colorscale": [
             [
              0,
              "#0d0887"
             ],
             [
              0.1111111111111111,
              "#46039f"
             ],
             [
              0.2222222222222222,
              "#7201a8"
             ],
             [
              0.3333333333333333,
              "#9c179e"
             ],
             [
              0.4444444444444444,
              "#bd3786"
             ],
             [
              0.5555555555555556,
              "#d8576b"
             ],
             [
              0.6666666666666666,
              "#ed7953"
             ],
             [
              0.7777777777777778,
              "#fb9f3a"
             ],
             [
              0.8888888888888888,
              "#fdca26"
             ],
             [
              1,
              "#f0f921"
             ]
            ],
            "type": "surface"
           }
          ],
          "table": [
           {
            "cells": {
             "fill": {
              "color": "#EBF0F8"
             },
             "line": {
              "color": "white"
             }
            },
            "header": {
             "fill": {
              "color": "#C8D4E3"
             },
             "line": {
              "color": "white"
             }
            },
            "type": "table"
           }
          ]
         },
         "layout": {
          "annotationdefaults": {
           "arrowcolor": "#2a3f5f",
           "arrowhead": 0,
           "arrowwidth": 1
          },
          "autotypenumbers": "strict",
          "coloraxis": {
           "colorbar": {
            "outlinewidth": 0,
            "ticks": ""
           }
          },
          "colorscale": {
           "diverging": [
            [
             0,
             "#8e0152"
            ],
            [
             0.1,
             "#c51b7d"
            ],
            [
             0.2,
             "#de77ae"
            ],
            [
             0.3,
             "#f1b6da"
            ],
            [
             0.4,
             "#fde0ef"
            ],
            [
             0.5,
             "#f7f7f7"
            ],
            [
             0.6,
             "#e6f5d0"
            ],
            [
             0.7,
             "#b8e186"
            ],
            [
             0.8,
             "#7fbc41"
            ],
            [
             0.9,
             "#4d9221"
            ],
            [
             1,
             "#276419"
            ]
           ],
           "sequential": [
            [
             0,
             "#0d0887"
            ],
            [
             0.1111111111111111,
             "#46039f"
            ],
            [
             0.2222222222222222,
             "#7201a8"
            ],
            [
             0.3333333333333333,
             "#9c179e"
            ],
            [
             0.4444444444444444,
             "#bd3786"
            ],
            [
             0.5555555555555556,
             "#d8576b"
            ],
            [
             0.6666666666666666,
             "#ed7953"
            ],
            [
             0.7777777777777778,
             "#fb9f3a"
            ],
            [
             0.8888888888888888,
             "#fdca26"
            ],
            [
             1,
             "#f0f921"
            ]
           ],
           "sequentialminus": [
            [
             0,
             "#0d0887"
            ],
            [
             0.1111111111111111,
             "#46039f"
            ],
            [
             0.2222222222222222,
             "#7201a8"
            ],
            [
             0.3333333333333333,
             "#9c179e"
            ],
            [
             0.4444444444444444,
             "#bd3786"
            ],
            [
             0.5555555555555556,
             "#d8576b"
            ],
            [
             0.6666666666666666,
             "#ed7953"
            ],
            [
             0.7777777777777778,
             "#fb9f3a"
            ],
            [
             0.8888888888888888,
             "#fdca26"
            ],
            [
             1,
             "#f0f921"
            ]
           ]
          },
          "colorway": [
           "#636efa",
           "#EF553B",
           "#00cc96",
           "#ab63fa",
           "#FFA15A",
           "#19d3f3",
           "#FF6692",
           "#B6E880",
           "#FF97FF",
           "#FECB52"
          ],
          "font": {
           "color": "#2a3f5f"
          },
          "geo": {
           "bgcolor": "white",
           "lakecolor": "white",
           "landcolor": "#E5ECF6",
           "showlakes": true,
           "showland": true,
           "subunitcolor": "white"
          },
          "hoverlabel": {
           "align": "left"
          },
          "hovermode": "closest",
          "mapbox": {
           "style": "light"
          },
          "paper_bgcolor": "white",
          "plot_bgcolor": "#E5ECF6",
          "polar": {
           "angularaxis": {
            "gridcolor": "white",
            "linecolor": "white",
            "ticks": ""
           },
           "bgcolor": "#E5ECF6",
           "radialaxis": {
            "gridcolor": "white",
            "linecolor": "white",
            "ticks": ""
           }
          },
          "scene": {
           "xaxis": {
            "backgroundcolor": "#E5ECF6",
            "gridcolor": "white",
            "gridwidth": 2,
            "linecolor": "white",
            "showbackground": true,
            "ticks": "",
            "zerolinecolor": "white"
           },
           "yaxis": {
            "backgroundcolor": "#E5ECF6",
            "gridcolor": "white",
            "gridwidth": 2,
            "linecolor": "white",
            "showbackground": true,
            "ticks": "",
            "zerolinecolor": "white"
           },
           "zaxis": {
            "backgroundcolor": "#E5ECF6",
            "gridcolor": "white",
            "gridwidth": 2,
            "linecolor": "white",
            "showbackground": true,
            "ticks": "",
            "zerolinecolor": "white"
           }
          },
          "shapedefaults": {
           "line": {
            "color": "#2a3f5f"
           }
          },
          "ternary": {
           "aaxis": {
            "gridcolor": "white",
            "linecolor": "white",
            "ticks": ""
           },
           "baxis": {
            "gridcolor": "white",
            "linecolor": "white",
            "ticks": ""
           },
           "bgcolor": "#E5ECF6",
           "caxis": {
            "gridcolor": "white",
            "linecolor": "white",
            "ticks": ""
           }
          },
          "title": {
           "x": 0.05
          },
          "xaxis": {
           "automargin": true,
           "gridcolor": "white",
           "linecolor": "white",
           "ticks": "",
           "title": {
            "standoff": 15
           },
           "zerolinecolor": "white",
           "zerolinewidth": 2
          },
          "yaxis": {
           "automargin": true,
           "gridcolor": "white",
           "linecolor": "white",
           "ticks": "",
           "title": {
            "standoff": 15
           },
           "zerolinecolor": "white",
           "zerolinewidth": 2
          }
         }
        },
        "title": {
         "text": "Candlestick Chart"
        },
        "xaxis": {
         "title": {
          "text": "Time"
         }
        },
        "yaxis": {
         "title": {
          "text": "Price"
         }
        }
       }
      }
     },
     "metadata": {},
     "output_type": "display_data"
    }
   ],
   "source": [
    "import plotly.graph_objects as go\n",
    "\n",
    "fig = go.Figure(data=[go.Candlestick(x=pandas_df['timeseries'],\n",
    "                open=df.toPandas()['open'],\n",
    "                high=df.toPandas()['high'],\n",
    "                low=df.toPandas()['low'],\n",
    "                close=df.toPandas()['close'])])\n",
    "\n",
    "fig.update_layout(title='Candlestick Chart', xaxis_title='Time', yaxis_title='Price')\n",
    "fig.show()\n"
   ]
  },
  {
   "cell_type": "code",
   "execution_count": 23,
   "metadata": {},
   "outputs": [
    {
     "data": {
      "application/vnd.plotly.v1+json": {
       "config": {
        "plotlyServerURL": "https://plot.ly"
       },
       "data": [
        {
         "hovertemplate": "variable=open<br>Time=%{x}<br>Stock Price=%{y}<extra></extra>",
         "legendgroup": "open",
         "line": {
          "color": "#636efa",
          "dash": "solid"
         },
         "marker": {
          "symbol": "circle"
         },
         "mode": "lines",
         "name": "open",
         "orientation": "v",
         "showlegend": true,
         "type": "scatter",
         "x": [
          "2023-03-31 07:05:00",
          "2023-03-31 08:00:00",
          "2023-03-31 08:20:00",
          "2023-03-31 08:30:00",
          "2023-03-31 08:40:00",
          "2023-03-31 08:55:00",
          "2023-03-31 09:15:00",
          "2023-03-31 09:30:00",
          "2023-03-31 09:35:00",
          "2023-03-31 09:40:00",
          "2023-03-31 09:45:00",
          "2023-03-31 09:50:00",
          "2023-03-31 09:55:00",
          "2023-03-31 10:00:00",
          "2023-03-31 10:05:00",
          "2023-03-31 10:10:00",
          "2023-03-31 10:15:00",
          "2023-03-31 10:20:00",
          "2023-03-31 10:25:00",
          "2023-03-31 10:30:00",
          "2023-03-31 10:35:00",
          "2023-03-31 10:40:00",
          "2023-03-31 10:45:00",
          "2023-03-31 10:50:00",
          "2023-03-31 10:55:00",
          "2023-03-31 11:00:00",
          "2023-03-31 11:05:00",
          "2023-03-31 11:10:00",
          "2023-03-31 11:15:00",
          "2023-03-31 11:20:00",
          "2023-03-31 11:25:00",
          "2023-03-31 11:30:00",
          "2023-03-31 11:35:00",
          "2023-03-31 11:40:00",
          "2023-03-31 11:45:00",
          "2023-03-31 11:50:00",
          "2023-03-31 11:55:00",
          "2023-03-31 12:00:00",
          "2023-03-31 12:05:00",
          "2023-03-31 12:10:00",
          "2023-03-31 12:15:00",
          "2023-03-31 12:20:00",
          "2023-03-31 12:25:00",
          "2023-03-31 12:30:00",
          "2023-03-31 12:35:00",
          "2023-03-31 12:40:00",
          "2023-03-31 12:45:00",
          "2023-03-31 12:50:00",
          "2023-03-31 12:55:00",
          "2023-03-31 13:00:00",
          "2023-03-31 13:05:00",
          "2023-03-31 13:10:00",
          "2023-03-31 13:15:00",
          "2023-03-31 13:20:00",
          "2023-03-31 13:25:00",
          "2023-03-31 13:30:00",
          "2023-03-31 13:35:00",
          "2023-03-31 13:40:00",
          "2023-03-31 13:45:00",
          "2023-03-31 13:50:00",
          "2023-03-31 13:55:00",
          "2023-03-31 14:00:00",
          "2023-03-31 14:05:00",
          "2023-03-31 14:10:00",
          "2023-03-31 14:15:00",
          "2023-03-31 14:20:00",
          "2023-03-31 14:25:00",
          "2023-03-31 14:30:00",
          "2023-03-31 14:35:00",
          "2023-03-31 14:40:00",
          "2023-03-31 14:45:00",
          "2023-03-31 14:50:00",
          "2023-03-31 14:55:00",
          "2023-03-31 15:00:00",
          "2023-03-31 15:05:00",
          "2023-03-31 15:10:00",
          "2023-03-31 15:15:00",
          "2023-03-31 15:20:00",
          "2023-03-31 15:25:00",
          "2023-03-31 15:30:00",
          "2023-03-31 15:35:00",
          "2023-03-31 15:40:00",
          "2023-03-31 15:45:00",
          "2023-03-31 15:50:00",
          "2023-03-31 15:55:00",
          "2023-03-31 16:00:00",
          "2023-03-31 16:05:00",
          "2023-03-31 16:10:00",
          "2023-03-31 16:15:00",
          "2023-03-31 16:20:00",
          "2023-03-31 16:25:00",
          "2023-03-31 16:35:00",
          "2023-03-31 16:45:00",
          "2023-03-31 16:50:00",
          "2023-03-31 16:55:00",
          "2023-03-31 17:20:00",
          "2023-03-31 17:30:00",
          "2023-03-31 17:45:00",
          "2023-03-31 19:00:00",
          "2023-03-31 19:40:00"
         ],
         "xaxis": "x",
         "y": [
          124.802,
          124.957,
          124.59,
          125.092,
          124.754,
          124.995,
          124.966,
          124.87,
          124.937,
          125.072,
          125.159,
          125.232,
          125.198,
          125.169,
          125.285,
          125.224,
          125.289,
          125.159,
          125.063,
          125.145,
          125.227,
          125.265,
          125.362,
          125.564,
          125.371,
          125.324,
          125.304,
          125.285,
          125.309,
          125.381,
          125.564,
          125.526,
          125.449,
          125.42,
          125.391,
          125.535,
          125.545,
          125.473,
          125.617,
          125.555,
          125.67,
          125.723,
          125.713,
          125.748,
          125.834,
          125.748,
          125.821,
          125.757,
          125.719,
          125.709,
          125.755,
          125.767,
          125.748,
          125.699,
          125.67,
          125.612,
          125.574,
          125.555,
          125.563,
          125.564,
          125.535,
          125.651,
          125.786,
          125.786,
          125.834,
          125.844,
          125.825,
          125.844,
          125.854,
          125.786,
          125.815,
          125.878,
          125.94,
          125.825,
          126.018,
          125.95,
          126.066,
          126.162,
          126.317,
          126.413,
          126.288,
          126.174,
          126.182,
          126.104,
          126.23,
          126.432,
          126.432,
          126.432,
          126.432,
          126.538,
          126.435,
          126.249,
          126.345,
          126.345,
          126.471,
          126.471,
          126.394,
          126.23,
          126.345,
          126.345
         ],
         "yaxis": "y"
        },
        {
         "hovertemplate": "variable=low<br>Time=%{x}<br>Stock Price=%{y}<extra></extra>",
         "legendgroup": "low",
         "line": {
          "color": "#EF553B",
          "dash": "solid"
         },
         "marker": {
          "symbol": "circle"
         },
         "mode": "lines",
         "name": "low",
         "orientation": "v",
         "showlegend": true,
         "type": "scatter",
         "x": [
          "2023-03-31 07:05:00",
          "2023-03-31 08:00:00",
          "2023-03-31 08:20:00",
          "2023-03-31 08:30:00",
          "2023-03-31 08:40:00",
          "2023-03-31 08:55:00",
          "2023-03-31 09:15:00",
          "2023-03-31 09:30:00",
          "2023-03-31 09:35:00",
          "2023-03-31 09:40:00",
          "2023-03-31 09:45:00",
          "2023-03-31 09:50:00",
          "2023-03-31 09:55:00",
          "2023-03-31 10:00:00",
          "2023-03-31 10:05:00",
          "2023-03-31 10:10:00",
          "2023-03-31 10:15:00",
          "2023-03-31 10:20:00",
          "2023-03-31 10:25:00",
          "2023-03-31 10:30:00",
          "2023-03-31 10:35:00",
          "2023-03-31 10:40:00",
          "2023-03-31 10:45:00",
          "2023-03-31 10:50:00",
          "2023-03-31 10:55:00",
          "2023-03-31 11:00:00",
          "2023-03-31 11:05:00",
          "2023-03-31 11:10:00",
          "2023-03-31 11:15:00",
          "2023-03-31 11:20:00",
          "2023-03-31 11:25:00",
          "2023-03-31 11:30:00",
          "2023-03-31 11:35:00",
          "2023-03-31 11:40:00",
          "2023-03-31 11:45:00",
          "2023-03-31 11:50:00",
          "2023-03-31 11:55:00",
          "2023-03-31 12:00:00",
          "2023-03-31 12:05:00",
          "2023-03-31 12:10:00",
          "2023-03-31 12:15:00",
          "2023-03-31 12:20:00",
          "2023-03-31 12:25:00",
          "2023-03-31 12:30:00",
          "2023-03-31 12:35:00",
          "2023-03-31 12:40:00",
          "2023-03-31 12:45:00",
          "2023-03-31 12:50:00",
          "2023-03-31 12:55:00",
          "2023-03-31 13:00:00",
          "2023-03-31 13:05:00",
          "2023-03-31 13:10:00",
          "2023-03-31 13:15:00",
          "2023-03-31 13:20:00",
          "2023-03-31 13:25:00",
          "2023-03-31 13:30:00",
          "2023-03-31 13:35:00",
          "2023-03-31 13:40:00",
          "2023-03-31 13:45:00",
          "2023-03-31 13:50:00",
          "2023-03-31 13:55:00",
          "2023-03-31 14:00:00",
          "2023-03-31 14:05:00",
          "2023-03-31 14:10:00",
          "2023-03-31 14:15:00",
          "2023-03-31 14:20:00",
          "2023-03-31 14:25:00",
          "2023-03-31 14:30:00",
          "2023-03-31 14:35:00",
          "2023-03-31 14:40:00",
          "2023-03-31 14:45:00",
          "2023-03-31 14:50:00",
          "2023-03-31 14:55:00",
          "2023-03-31 15:00:00",
          "2023-03-31 15:05:00",
          "2023-03-31 15:10:00",
          "2023-03-31 15:15:00",
          "2023-03-31 15:20:00",
          "2023-03-31 15:25:00",
          "2023-03-31 15:30:00",
          "2023-03-31 15:35:00",
          "2023-03-31 15:40:00",
          "2023-03-31 15:45:00",
          "2023-03-31 15:50:00",
          "2023-03-31 15:55:00",
          "2023-03-31 16:00:00",
          "2023-03-31 16:05:00",
          "2023-03-31 16:10:00",
          "2023-03-31 16:15:00",
          "2023-03-31 16:20:00",
          "2023-03-31 16:25:00",
          "2023-03-31 16:35:00",
          "2023-03-31 16:45:00",
          "2023-03-31 16:50:00",
          "2023-03-31 16:55:00",
          "2023-03-31 17:20:00",
          "2023-03-31 17:30:00",
          "2023-03-31 17:45:00",
          "2023-03-31 19:00:00",
          "2023-03-31 19:40:00"
         ],
         "xaxis": "x",
         "y": [
          124.747,
          124.901,
          124.535,
          125.036,
          124.698,
          124.939,
          124.911,
          124.814,
          124.766,
          124.988,
          125.084,
          125.065,
          125.084,
          125.084,
          125.152,
          125.161,
          125.065,
          124.978,
          124.997,
          125.079,
          125.132,
          125.161,
          125.287,
          125.296,
          125.277,
          125.209,
          125.19,
          125.219,
          125.219,
          125.323,
          125.46,
          125.364,
          125.368,
          125.296,
          125.335,
          125.479,
          125.417,
          125.416,
          125.469,
          125.499,
          125.595,
          125.634,
          125.657,
          125.691,
          125.682,
          125.663,
          125.624,
          125.646,
          125.624,
          125.653,
          125.643,
          125.643,
          125.624,
          125.605,
          125.523,
          125.46,
          125.45,
          125.479,
          125.489,
          125.46,
          125.46,
          125.585,
          125.691,
          125.711,
          125.759,
          125.769,
          125.744,
          125.72,
          125.73,
          125.711,
          125.759,
          125.797,
          125.744,
          125.759,
          125.807,
          125.894,
          126,
          126.087,
          126.241,
          126.212,
          126.087,
          126.077,
          125.993,
          126.019,
          126.159,
          126.376,
          126.376,
          126.376,
          126.376,
          126.482,
          126.379,
          126.193,
          126.289,
          126.289,
          126.376,
          126.414,
          126.337,
          126.173,
          126.289,
          126.289
         ],
         "yaxis": "y"
        },
        {
         "hovertemplate": "variable=close<br>Time=%{x}<br>Stock Price=%{y}<extra></extra>",
         "legendgroup": "close",
         "line": {
          "color": "#00cc96",
          "dash": "solid"
         },
         "marker": {
          "symbol": "circle"
         },
         "mode": "lines",
         "name": "close",
         "orientation": "v",
         "showlegend": true,
         "type": "scatter",
         "x": [
          "2023-03-31 07:05:00",
          "2023-03-31 08:00:00",
          "2023-03-31 08:20:00",
          "2023-03-31 08:30:00",
          "2023-03-31 08:40:00",
          "2023-03-31 08:55:00",
          "2023-03-31 09:15:00",
          "2023-03-31 09:30:00",
          "2023-03-31 09:35:00",
          "2023-03-31 09:40:00",
          "2023-03-31 09:45:00",
          "2023-03-31 09:50:00",
          "2023-03-31 09:55:00",
          "2023-03-31 10:00:00",
          "2023-03-31 10:05:00",
          "2023-03-31 10:10:00",
          "2023-03-31 10:15:00",
          "2023-03-31 10:20:00",
          "2023-03-31 10:25:00",
          "2023-03-31 10:30:00",
          "2023-03-31 10:35:00",
          "2023-03-31 10:40:00",
          "2023-03-31 10:45:00",
          "2023-03-31 10:50:00",
          "2023-03-31 10:55:00",
          "2023-03-31 11:00:00",
          "2023-03-31 11:05:00",
          "2023-03-31 11:10:00",
          "2023-03-31 11:15:00",
          "2023-03-31 11:20:00",
          "2023-03-31 11:25:00",
          "2023-03-31 11:30:00",
          "2023-03-31 11:35:00",
          "2023-03-31 11:40:00",
          "2023-03-31 11:45:00",
          "2023-03-31 11:50:00",
          "2023-03-31 11:55:00",
          "2023-03-31 12:00:00",
          "2023-03-31 12:05:00",
          "2023-03-31 12:10:00",
          "2023-03-31 12:15:00",
          "2023-03-31 12:20:00",
          "2023-03-31 12:25:00",
          "2023-03-31 12:30:00",
          "2023-03-31 12:35:00",
          "2023-03-31 12:40:00",
          "2023-03-31 12:45:00",
          "2023-03-31 12:50:00",
          "2023-03-31 12:55:00",
          "2023-03-31 13:00:00",
          "2023-03-31 13:05:00",
          "2023-03-31 13:10:00",
          "2023-03-31 13:15:00",
          "2023-03-31 13:20:00",
          "2023-03-31 13:25:00",
          "2023-03-31 13:30:00",
          "2023-03-31 13:35:00",
          "2023-03-31 13:40:00",
          "2023-03-31 13:45:00",
          "2023-03-31 13:50:00",
          "2023-03-31 13:55:00",
          "2023-03-31 14:00:00",
          "2023-03-31 14:05:00",
          "2023-03-31 14:10:00",
          "2023-03-31 14:15:00",
          "2023-03-31 14:20:00",
          "2023-03-31 14:25:00",
          "2023-03-31 14:30:00",
          "2023-03-31 14:35:00",
          "2023-03-31 14:40:00",
          "2023-03-31 14:45:00",
          "2023-03-31 14:50:00",
          "2023-03-31 14:55:00",
          "2023-03-31 15:00:00",
          "2023-03-31 15:05:00",
          "2023-03-31 15:10:00",
          "2023-03-31 15:15:00",
          "2023-03-31 15:20:00",
          "2023-03-31 15:25:00",
          "2023-03-31 15:30:00",
          "2023-03-31 15:35:00",
          "2023-03-31 15:40:00",
          "2023-03-31 15:45:00",
          "2023-03-31 15:50:00",
          "2023-03-31 15:55:00",
          "2023-03-31 16:00:00",
          "2023-03-31 16:05:00",
          "2023-03-31 16:10:00",
          "2023-03-31 16:15:00",
          "2023-03-31 16:20:00",
          "2023-03-31 16:25:00",
          "2023-03-31 16:35:00",
          "2023-03-31 16:45:00",
          "2023-03-31 16:50:00",
          "2023-03-31 16:55:00",
          "2023-03-31 17:20:00",
          "2023-03-31 17:30:00",
          "2023-03-31 17:45:00",
          "2023-03-31 19:00:00",
          "2023-03-31 19:40:00"
         ],
         "xaxis": "x",
         "y": [
          124.769,
          124.923,
          124.556,
          125.058,
          124.72,
          124.961,
          124.933,
          124.924,
          125.03,
          125.135,
          125.154,
          125.154,
          125.145,
          125.212,
          125.193,
          125.27,
          125.135,
          125.048,
          125.12,
          125.182,
          125.202,
          125.299,
          125.521,
          125.337,
          125.299,
          125.27,
          125.251,
          125.275,
          125.357,
          125.521,
          125.492,
          125.4,
          125.405,
          125.366,
          125.497,
          125.511,
          125.444,
          125.579,
          125.511,
          125.629,
          125.689,
          125.685,
          125.714,
          125.81,
          125.723,
          125.791,
          125.723,
          125.694,
          125.672,
          125.733,
          125.752,
          125.704,
          125.68,
          125.627,
          125.559,
          125.55,
          125.511,
          125.521,
          125.54,
          125.503,
          125.608,
          125.747,
          125.742,
          125.791,
          125.81,
          125.796,
          125.81,
          125.82,
          125.752,
          125.8,
          125.839,
          125.906,
          125.781,
          125.984,
          125.922,
          126.032,
          126.128,
          126.287,
          126.36,
          126.268,
          126.147,
          126.147,
          126.065,
          126.196,
          126.379,
          126.398,
          126.398,
          126.398,
          126.398,
          126.504,
          126.401,
          126.215,
          126.311,
          126.311,
          126.398,
          126.437,
          126.36,
          126.196,
          126.311,
          126.311
         ],
         "yaxis": "y"
        }
       ],
       "layout": {
        "legend": {
         "title": {
          "text": "variable"
         },
         "tracegroupgap": 0
        },
        "template": {
         "data": {
          "bar": [
           {
            "error_x": {
             "color": "#2a3f5f"
            },
            "error_y": {
             "color": "#2a3f5f"
            },
            "marker": {
             "line": {
              "color": "#E5ECF6",
              "width": 0.5
             },
             "pattern": {
              "fillmode": "overlay",
              "size": 10,
              "solidity": 0.2
             }
            },
            "type": "bar"
           }
          ],
          "barpolar": [
           {
            "marker": {
             "line": {
              "color": "#E5ECF6",
              "width": 0.5
             },
             "pattern": {
              "fillmode": "overlay",
              "size": 10,
              "solidity": 0.2
             }
            },
            "type": "barpolar"
           }
          ],
          "carpet": [
           {
            "aaxis": {
             "endlinecolor": "#2a3f5f",
             "gridcolor": "white",
             "linecolor": "white",
             "minorgridcolor": "white",
             "startlinecolor": "#2a3f5f"
            },
            "baxis": {
             "endlinecolor": "#2a3f5f",
             "gridcolor": "white",
             "linecolor": "white",
             "minorgridcolor": "white",
             "startlinecolor": "#2a3f5f"
            },
            "type": "carpet"
           }
          ],
          "choropleth": [
           {
            "colorbar": {
             "outlinewidth": 0,
             "ticks": ""
            },
            "type": "choropleth"
           }
          ],
          "contour": [
           {
            "colorbar": {
             "outlinewidth": 0,
             "ticks": ""
            },
            "colorscale": [
             [
              0,
              "#0d0887"
             ],
             [
              0.1111111111111111,
              "#46039f"
             ],
             [
              0.2222222222222222,
              "#7201a8"
             ],
             [
              0.3333333333333333,
              "#9c179e"
             ],
             [
              0.4444444444444444,
              "#bd3786"
             ],
             [
              0.5555555555555556,
              "#d8576b"
             ],
             [
              0.6666666666666666,
              "#ed7953"
             ],
             [
              0.7777777777777778,
              "#fb9f3a"
             ],
             [
              0.8888888888888888,
              "#fdca26"
             ],
             [
              1,
              "#f0f921"
             ]
            ],
            "type": "contour"
           }
          ],
          "contourcarpet": [
           {
            "colorbar": {
             "outlinewidth": 0,
             "ticks": ""
            },
            "type": "contourcarpet"
           }
          ],
          "heatmap": [
           {
            "colorbar": {
             "outlinewidth": 0,
             "ticks": ""
            },
            "colorscale": [
             [
              0,
              "#0d0887"
             ],
             [
              0.1111111111111111,
              "#46039f"
             ],
             [
              0.2222222222222222,
              "#7201a8"
             ],
             [
              0.3333333333333333,
              "#9c179e"
             ],
             [
              0.4444444444444444,
              "#bd3786"
             ],
             [
              0.5555555555555556,
              "#d8576b"
             ],
             [
              0.6666666666666666,
              "#ed7953"
             ],
             [
              0.7777777777777778,
              "#fb9f3a"
             ],
             [
              0.8888888888888888,
              "#fdca26"
             ],
             [
              1,
              "#f0f921"
             ]
            ],
            "type": "heatmap"
           }
          ],
          "heatmapgl": [
           {
            "colorbar": {
             "outlinewidth": 0,
             "ticks": ""
            },
            "colorscale": [
             [
              0,
              "#0d0887"
             ],
             [
              0.1111111111111111,
              "#46039f"
             ],
             [
              0.2222222222222222,
              "#7201a8"
             ],
             [
              0.3333333333333333,
              "#9c179e"
             ],
             [
              0.4444444444444444,
              "#bd3786"
             ],
             [
              0.5555555555555556,
              "#d8576b"
             ],
             [
              0.6666666666666666,
              "#ed7953"
             ],
             [
              0.7777777777777778,
              "#fb9f3a"
             ],
             [
              0.8888888888888888,
              "#fdca26"
             ],
             [
              1,
              "#f0f921"
             ]
            ],
            "type": "heatmapgl"
           }
          ],
          "histogram": [
           {
            "marker": {
             "pattern": {
              "fillmode": "overlay",
              "size": 10,
              "solidity": 0.2
             }
            },
            "type": "histogram"
           }
          ],
          "histogram2d": [
           {
            "colorbar": {
             "outlinewidth": 0,
             "ticks": ""
            },
            "colorscale": [
             [
              0,
              "#0d0887"
             ],
             [
              0.1111111111111111,
              "#46039f"
             ],
             [
              0.2222222222222222,
              "#7201a8"
             ],
             [
              0.3333333333333333,
              "#9c179e"
             ],
             [
              0.4444444444444444,
              "#bd3786"
             ],
             [
              0.5555555555555556,
              "#d8576b"
             ],
             [
              0.6666666666666666,
              "#ed7953"
             ],
             [
              0.7777777777777778,
              "#fb9f3a"
             ],
             [
              0.8888888888888888,
              "#fdca26"
             ],
             [
              1,
              "#f0f921"
             ]
            ],
            "type": "histogram2d"
           }
          ],
          "histogram2dcontour": [
           {
            "colorbar": {
             "outlinewidth": 0,
             "ticks": ""
            },
            "colorscale": [
             [
              0,
              "#0d0887"
             ],
             [
              0.1111111111111111,
              "#46039f"
             ],
             [
              0.2222222222222222,
              "#7201a8"
             ],
             [
              0.3333333333333333,
              "#9c179e"
             ],
             [
              0.4444444444444444,
              "#bd3786"
             ],
             [
              0.5555555555555556,
              "#d8576b"
             ],
             [
              0.6666666666666666,
              "#ed7953"
             ],
             [
              0.7777777777777778,
              "#fb9f3a"
             ],
             [
              0.8888888888888888,
              "#fdca26"
             ],
             [
              1,
              "#f0f921"
             ]
            ],
            "type": "histogram2dcontour"
           }
          ],
          "mesh3d": [
           {
            "colorbar": {
             "outlinewidth": 0,
             "ticks": ""
            },
            "type": "mesh3d"
           }
          ],
          "parcoords": [
           {
            "line": {
             "colorbar": {
              "outlinewidth": 0,
              "ticks": ""
             }
            },
            "type": "parcoords"
           }
          ],
          "pie": [
           {
            "automargin": true,
            "type": "pie"
           }
          ],
          "scatter": [
           {
            "fillpattern": {
             "fillmode": "overlay",
             "size": 10,
             "solidity": 0.2
            },
            "type": "scatter"
           }
          ],
          "scatter3d": [
           {
            "line": {
             "colorbar": {
              "outlinewidth": 0,
              "ticks": ""
             }
            },
            "marker": {
             "colorbar": {
              "outlinewidth": 0,
              "ticks": ""
             }
            },
            "type": "scatter3d"
           }
          ],
          "scattercarpet": [
           {
            "marker": {
             "colorbar": {
              "outlinewidth": 0,
              "ticks": ""
             }
            },
            "type": "scattercarpet"
           }
          ],
          "scattergeo": [
           {
            "marker": {
             "colorbar": {
              "outlinewidth": 0,
              "ticks": ""
             }
            },
            "type": "scattergeo"
           }
          ],
          "scattergl": [
           {
            "marker": {
             "colorbar": {
              "outlinewidth": 0,
              "ticks": ""
             }
            },
            "type": "scattergl"
           }
          ],
          "scattermapbox": [
           {
            "marker": {
             "colorbar": {
              "outlinewidth": 0,
              "ticks": ""
             }
            },
            "type": "scattermapbox"
           }
          ],
          "scatterpolar": [
           {
            "marker": {
             "colorbar": {
              "outlinewidth": 0,
              "ticks": ""
             }
            },
            "type": "scatterpolar"
           }
          ],
          "scatterpolargl": [
           {
            "marker": {
             "colorbar": {
              "outlinewidth": 0,
              "ticks": ""
             }
            },
            "type": "scatterpolargl"
           }
          ],
          "scatterternary": [
           {
            "marker": {
             "colorbar": {
              "outlinewidth": 0,
              "ticks": ""
             }
            },
            "type": "scatterternary"
           }
          ],
          "surface": [
           {
            "colorbar": {
             "outlinewidth": 0,
             "ticks": ""
            },
            "colorscale": [
             [
              0,
              "#0d0887"
             ],
             [
              0.1111111111111111,
              "#46039f"
             ],
             [
              0.2222222222222222,
              "#7201a8"
             ],
             [
              0.3333333333333333,
              "#9c179e"
             ],
             [
              0.4444444444444444,
              "#bd3786"
             ],
             [
              0.5555555555555556,
              "#d8576b"
             ],
             [
              0.6666666666666666,
              "#ed7953"
             ],
             [
              0.7777777777777778,
              "#fb9f3a"
             ],
             [
              0.8888888888888888,
              "#fdca26"
             ],
             [
              1,
              "#f0f921"
             ]
            ],
            "type": "surface"
           }
          ],
          "table": [
           {
            "cells": {
             "fill": {
              "color": "#EBF0F8"
             },
             "line": {
              "color": "white"
             }
            },
            "header": {
             "fill": {
              "color": "#C8D4E3"
             },
             "line": {
              "color": "white"
             }
            },
            "type": "table"
           }
          ]
         },
         "layout": {
          "annotationdefaults": {
           "arrowcolor": "#2a3f5f",
           "arrowhead": 0,
           "arrowwidth": 1
          },
          "autotypenumbers": "strict",
          "coloraxis": {
           "colorbar": {
            "outlinewidth": 0,
            "ticks": ""
           }
          },
          "colorscale": {
           "diverging": [
            [
             0,
             "#8e0152"
            ],
            [
             0.1,
             "#c51b7d"
            ],
            [
             0.2,
             "#de77ae"
            ],
            [
             0.3,
             "#f1b6da"
            ],
            [
             0.4,
             "#fde0ef"
            ],
            [
             0.5,
             "#f7f7f7"
            ],
            [
             0.6,
             "#e6f5d0"
            ],
            [
             0.7,
             "#b8e186"
            ],
            [
             0.8,
             "#7fbc41"
            ],
            [
             0.9,
             "#4d9221"
            ],
            [
             1,
             "#276419"
            ]
           ],
           "sequential": [
            [
             0,
             "#0d0887"
            ],
            [
             0.1111111111111111,
             "#46039f"
            ],
            [
             0.2222222222222222,
             "#7201a8"
            ],
            [
             0.3333333333333333,
             "#9c179e"
            ],
            [
             0.4444444444444444,
             "#bd3786"
            ],
            [
             0.5555555555555556,
             "#d8576b"
            ],
            [
             0.6666666666666666,
             "#ed7953"
            ],
            [
             0.7777777777777778,
             "#fb9f3a"
            ],
            [
             0.8888888888888888,
             "#fdca26"
            ],
            [
             1,
             "#f0f921"
            ]
           ],
           "sequentialminus": [
            [
             0,
             "#0d0887"
            ],
            [
             0.1111111111111111,
             "#46039f"
            ],
            [
             0.2222222222222222,
             "#7201a8"
            ],
            [
             0.3333333333333333,
             "#9c179e"
            ],
            [
             0.4444444444444444,
             "#bd3786"
            ],
            [
             0.5555555555555556,
             "#d8576b"
            ],
            [
             0.6666666666666666,
             "#ed7953"
            ],
            [
             0.7777777777777778,
             "#fb9f3a"
            ],
            [
             0.8888888888888888,
             "#fdca26"
            ],
            [
             1,
             "#f0f921"
            ]
           ]
          },
          "colorway": [
           "#636efa",
           "#EF553B",
           "#00cc96",
           "#ab63fa",
           "#FFA15A",
           "#19d3f3",
           "#FF6692",
           "#B6E880",
           "#FF97FF",
           "#FECB52"
          ],
          "font": {
           "color": "#2a3f5f"
          },
          "geo": {
           "bgcolor": "white",
           "lakecolor": "white",
           "landcolor": "#E5ECF6",
           "showlakes": true,
           "showland": true,
           "subunitcolor": "white"
          },
          "hoverlabel": {
           "align": "left"
          },
          "hovermode": "closest",
          "mapbox": {
           "style": "light"
          },
          "paper_bgcolor": "white",
          "plot_bgcolor": "#E5ECF6",
          "polar": {
           "angularaxis": {
            "gridcolor": "white",
            "linecolor": "white",
            "ticks": ""
           },
           "bgcolor": "#E5ECF6",
           "radialaxis": {
            "gridcolor": "white",
            "linecolor": "white",
            "ticks": ""
           }
          },
          "scene": {
           "xaxis": {
            "backgroundcolor": "#E5ECF6",
            "gridcolor": "white",
            "gridwidth": 2,
            "linecolor": "white",
            "showbackground": true,
            "ticks": "",
            "zerolinecolor": "white"
           },
           "yaxis": {
            "backgroundcolor": "#E5ECF6",
            "gridcolor": "white",
            "gridwidth": 2,
            "linecolor": "white",
            "showbackground": true,
            "ticks": "",
            "zerolinecolor": "white"
           },
           "zaxis": {
            "backgroundcolor": "#E5ECF6",
            "gridcolor": "white",
            "gridwidth": 2,
            "linecolor": "white",
            "showbackground": true,
            "ticks": "",
            "zerolinecolor": "white"
           }
          },
          "shapedefaults": {
           "line": {
            "color": "#2a3f5f"
           }
          },
          "ternary": {
           "aaxis": {
            "gridcolor": "white",
            "linecolor": "white",
            "ticks": ""
           },
           "baxis": {
            "gridcolor": "white",
            "linecolor": "white",
            "ticks": ""
           },
           "bgcolor": "#E5ECF6",
           "caxis": {
            "gridcolor": "white",
            "linecolor": "white",
            "ticks": ""
           }
          },
          "title": {
           "x": 0.05
          },
          "xaxis": {
           "automargin": true,
           "gridcolor": "white",
           "linecolor": "white",
           "ticks": "",
           "title": {
            "standoff": 15
           },
           "zerolinecolor": "white",
           "zerolinewidth": 2
          },
          "yaxis": {
           "automargin": true,
           "gridcolor": "white",
           "linecolor": "white",
           "ticks": "",
           "title": {
            "standoff": 15
           },
           "zerolinecolor": "white",
           "zerolinewidth": 2
          }
         }
        },
        "title": {
         "text": "Stock Price Over Time with Moving Averages"
        },
        "xaxis": {
         "anchor": "y",
         "domain": [
          0,
          1
         ],
         "title": {
          "text": "Time"
         }
        },
        "yaxis": {
         "anchor": "x",
         "domain": [
          0,
          1
         ],
         "title": {
          "text": "Stock Price"
         }
        }
       }
      }
     },
     "metadata": {},
     "output_type": "display_data"
    }
   ],
   "source": [
    "fig = px.line(pandas_df, x='timeseries', y=['open', 'low', 'close'],\n",
    "              labels={'value': 'Stock Price', 'timeseries': 'Time'},\n",
    "              title='Stock Price Over Time with Moving Averages')\n",
    "fig.show()\n"
   ]
  },
  {
   "cell_type": "code",
   "execution_count": 28,
   "metadata": {},
   "outputs": [
    {
     "data": {
      "application/vnd.plotly.v1+json": {
       "config": {
        "plotlyServerURL": "https://plot.ly"
       },
       "data": [
        {
         "hovertemplate": "symbol=IBM<br>timeseries=%{x}<br>daily_return=%{y}<extra></extra>",
         "legendgroup": "IBM",
         "marker": {
          "color": "#636efa",
          "symbol": "circle"
         },
         "mode": "markers",
         "name": "IBM",
         "orientation": "v",
         "showlegend": true,
         "type": "scatter",
         "x": [
          "2023-03-31 07:05:00",
          "2023-03-31 08:00:00",
          "2023-03-31 08:20:00",
          "2023-03-31 08:30:00",
          "2023-03-31 08:40:00",
          "2023-03-31 08:55:00",
          "2023-03-31 09:15:00",
          "2023-03-31 09:30:00",
          "2023-03-31 09:35:00",
          "2023-03-31 09:40:00",
          "2023-03-31 09:45:00",
          "2023-03-31 09:50:00",
          "2023-03-31 09:55:00",
          "2023-03-31 10:00:00",
          "2023-03-31 10:05:00",
          "2023-03-31 10:10:00",
          "2023-03-31 10:15:00",
          "2023-03-31 10:20:00",
          "2023-03-31 10:25:00",
          "2023-03-31 10:30:00",
          "2023-03-31 10:35:00",
          "2023-03-31 10:40:00",
          "2023-03-31 10:45:00",
          "2023-03-31 10:50:00",
          "2023-03-31 10:55:00",
          "2023-03-31 11:00:00",
          "2023-03-31 11:05:00",
          "2023-03-31 11:10:00",
          "2023-03-31 11:15:00",
          "2023-03-31 11:20:00",
          "2023-03-31 11:25:00",
          "2023-03-31 11:30:00",
          "2023-03-31 11:35:00",
          "2023-03-31 11:40:00",
          "2023-03-31 11:45:00",
          "2023-03-31 11:50:00",
          "2023-03-31 11:55:00",
          "2023-03-31 12:00:00",
          "2023-03-31 12:05:00",
          "2023-03-31 12:10:00",
          "2023-03-31 12:15:00",
          "2023-03-31 12:20:00",
          "2023-03-31 12:25:00",
          "2023-03-31 12:30:00",
          "2023-03-31 12:35:00",
          "2023-03-31 12:40:00",
          "2023-03-31 12:45:00",
          "2023-03-31 12:50:00",
          "2023-03-31 12:55:00",
          "2023-03-31 13:00:00",
          "2023-03-31 13:05:00",
          "2023-03-31 13:10:00",
          "2023-03-31 13:15:00",
          "2023-03-31 13:20:00",
          "2023-03-31 13:25:00",
          "2023-03-31 13:30:00",
          "2023-03-31 13:35:00",
          "2023-03-31 13:40:00",
          "2023-03-31 13:45:00",
          "2023-03-31 13:50:00",
          "2023-03-31 13:55:00",
          "2023-03-31 14:00:00",
          "2023-03-31 14:05:00",
          "2023-03-31 14:10:00",
          "2023-03-31 14:15:00",
          "2023-03-31 14:20:00",
          "2023-03-31 14:25:00",
          "2023-03-31 14:30:00",
          "2023-03-31 14:35:00",
          "2023-03-31 14:40:00",
          "2023-03-31 14:45:00",
          "2023-03-31 14:50:00",
          "2023-03-31 14:55:00",
          "2023-03-31 15:00:00",
          "2023-03-31 15:05:00",
          "2023-03-31 15:10:00",
          "2023-03-31 15:15:00",
          "2023-03-31 15:20:00",
          "2023-03-31 15:25:00",
          "2023-03-31 15:30:00",
          "2023-03-31 15:35:00",
          "2023-03-31 15:40:00",
          "2023-03-31 15:45:00",
          "2023-03-31 15:50:00",
          "2023-03-31 15:55:00",
          "2023-03-31 16:00:00",
          "2023-03-31 16:05:00",
          "2023-03-31 16:10:00",
          "2023-03-31 16:15:00",
          "2023-03-31 16:20:00",
          "2023-03-31 16:25:00",
          "2023-03-31 16:35:00",
          "2023-03-31 16:45:00",
          "2023-03-31 16:50:00",
          "2023-03-31 16:55:00",
          "2023-03-31 17:20:00",
          "2023-03-31 17:30:00",
          "2023-03-31 17:45:00",
          "2023-03-31 19:00:00",
          "2023-03-31 19:40:00"
         ],
         "xaxis": "x",
         "y": [
          null,
          0.0012342809511978192,
          -0.0029378096907695106,
          0.004030315681299967,
          -0.002702745925890482,
          0.0019323284156511633,
          -0.0002240699098118304,
          -0.00007203861269644563,
          0.0008485158976656582,
          0.000839798448372342,
          0.0001518360171015587,
          0,
          -0.00007191140514883898,
          0.0005353789604058967,
          -0.00015174264447503916,
          0.0006150503622406323,
          -0.0010776722279874917,
          -0.0006952491309386577,
          0.0005757789009019909,
          0.0004955242966750983,
          0.00015976737869660695,
          0.0007747480072204382,
          0.0017717619454264977,
          -0.001465890169772388,
          -0.0003031826196573384,
          -0.00023144638025851538,
          -0.0001516723876425763,
          0.00019161523660482516,
          0.0006545599680702896,
          0.0013082635991608083,
          -0.00023103703762716865,
          -0.0007331144614796115,
          0.00003987240829350647,
          -0.0003109923846736917,
          0.0010449404144663443,
          0.00011155645154858895,
          -0.0005338177530255228,
          0.0010761774178118522,
          -0.0005414918099363453,
          0.0009401566396571859,
          0.00047759673323821694,
          -0.00003182458289896495,
          0.00023073556908137505,
          0.000763638099177566,
          -0.0006915189571576885,
          0.0005408715986732204,
          -0.0005405792147291644,
          -0.0002306658288458996,
          -0.00017502824319381993,
          0.00048539054045448893,
          0.00015111386827637574,
          -0.00038170367071699296,
          -0.0001909247120217561,
          -0.00042170591979640015,
          -0.0005412849148670462,
          -0.00007167944950181582,
          -0.0003106332138590462,
          0.00007967429149635663,
          0.00015136909361790352,
          -0.0002947267803090625,
          0.0008366333872498188,
          0.0011066174129035211,
          -0.000039762380017016596,
          0.0003896868190420566,
          0.00015104419235090205,
          -0.00011127891264606227,
          0.00011129129702047713,
          0.00007948493760423503,
          -0.0005404546177077973,
          0.00038170367071699296,
          0.00031001589825119247,
          0.000532426354309834,
          -0.0009928041554810862,
          0.0016139162512620597,
          -0.0004921259842519676,
          0.00087355664617772,
          0.0007617113114128937,
          0.0012606241278700914,
          0.0005780484135342601,
          -0.0007280785058563222,
          -0.000958279215636515,
          0,
          -0.0006500352763046946,
          0.00103914647205805,
          0.0014501252020666655,
          0.00015034143330772132,
          0,
          0,
          0,
          0.0008386208642543469,
          -0.0008142035034466311,
          -0.001471507345669698,
          0.0007606069009231664,
          0,
          0.0006887761160943029,
          0.0003085491859049494,
          -0.0006089989480927427,
          -0.001297879075656816,
          0.0009112808646867254,
          0
         ],
         "yaxis": "y"
        }
       ],
       "layout": {
        "legend": {
         "title": {
          "text": "symbol"
         },
         "tracegroupgap": 0
        },
        "template": {
         "data": {
          "bar": [
           {
            "error_x": {
             "color": "#2a3f5f"
            },
            "error_y": {
             "color": "#2a3f5f"
            },
            "marker": {
             "line": {
              "color": "#E5ECF6",
              "width": 0.5
             },
             "pattern": {
              "fillmode": "overlay",
              "size": 10,
              "solidity": 0.2
             }
            },
            "type": "bar"
           }
          ],
          "barpolar": [
           {
            "marker": {
             "line": {
              "color": "#E5ECF6",
              "width": 0.5
             },
             "pattern": {
              "fillmode": "overlay",
              "size": 10,
              "solidity": 0.2
             }
            },
            "type": "barpolar"
           }
          ],
          "carpet": [
           {
            "aaxis": {
             "endlinecolor": "#2a3f5f",
             "gridcolor": "white",
             "linecolor": "white",
             "minorgridcolor": "white",
             "startlinecolor": "#2a3f5f"
            },
            "baxis": {
             "endlinecolor": "#2a3f5f",
             "gridcolor": "white",
             "linecolor": "white",
             "minorgridcolor": "white",
             "startlinecolor": "#2a3f5f"
            },
            "type": "carpet"
           }
          ],
          "choropleth": [
           {
            "colorbar": {
             "outlinewidth": 0,
             "ticks": ""
            },
            "type": "choropleth"
           }
          ],
          "contour": [
           {
            "colorbar": {
             "outlinewidth": 0,
             "ticks": ""
            },
            "colorscale": [
             [
              0,
              "#0d0887"
             ],
             [
              0.1111111111111111,
              "#46039f"
             ],
             [
              0.2222222222222222,
              "#7201a8"
             ],
             [
              0.3333333333333333,
              "#9c179e"
             ],
             [
              0.4444444444444444,
              "#bd3786"
             ],
             [
              0.5555555555555556,
              "#d8576b"
             ],
             [
              0.6666666666666666,
              "#ed7953"
             ],
             [
              0.7777777777777778,
              "#fb9f3a"
             ],
             [
              0.8888888888888888,
              "#fdca26"
             ],
             [
              1,
              "#f0f921"
             ]
            ],
            "type": "contour"
           }
          ],
          "contourcarpet": [
           {
            "colorbar": {
             "outlinewidth": 0,
             "ticks": ""
            },
            "type": "contourcarpet"
           }
          ],
          "heatmap": [
           {
            "colorbar": {
             "outlinewidth": 0,
             "ticks": ""
            },
            "colorscale": [
             [
              0,
              "#0d0887"
             ],
             [
              0.1111111111111111,
              "#46039f"
             ],
             [
              0.2222222222222222,
              "#7201a8"
             ],
             [
              0.3333333333333333,
              "#9c179e"
             ],
             [
              0.4444444444444444,
              "#bd3786"
             ],
             [
              0.5555555555555556,
              "#d8576b"
             ],
             [
              0.6666666666666666,
              "#ed7953"
             ],
             [
              0.7777777777777778,
              "#fb9f3a"
             ],
             [
              0.8888888888888888,
              "#fdca26"
             ],
             [
              1,
              "#f0f921"
             ]
            ],
            "type": "heatmap"
           }
          ],
          "heatmapgl": [
           {
            "colorbar": {
             "outlinewidth": 0,
             "ticks": ""
            },
            "colorscale": [
             [
              0,
              "#0d0887"
             ],
             [
              0.1111111111111111,
              "#46039f"
             ],
             [
              0.2222222222222222,
              "#7201a8"
             ],
             [
              0.3333333333333333,
              "#9c179e"
             ],
             [
              0.4444444444444444,
              "#bd3786"
             ],
             [
              0.5555555555555556,
              "#d8576b"
             ],
             [
              0.6666666666666666,
              "#ed7953"
             ],
             [
              0.7777777777777778,
              "#fb9f3a"
             ],
             [
              0.8888888888888888,
              "#fdca26"
             ],
             [
              1,
              "#f0f921"
             ]
            ],
            "type": "heatmapgl"
           }
          ],
          "histogram": [
           {
            "marker": {
             "pattern": {
              "fillmode": "overlay",
              "size": 10,
              "solidity": 0.2
             }
            },
            "type": "histogram"
           }
          ],
          "histogram2d": [
           {
            "colorbar": {
             "outlinewidth": 0,
             "ticks": ""
            },
            "colorscale": [
             [
              0,
              "#0d0887"
             ],
             [
              0.1111111111111111,
              "#46039f"
             ],
             [
              0.2222222222222222,
              "#7201a8"
             ],
             [
              0.3333333333333333,
              "#9c179e"
             ],
             [
              0.4444444444444444,
              "#bd3786"
             ],
             [
              0.5555555555555556,
              "#d8576b"
             ],
             [
              0.6666666666666666,
              "#ed7953"
             ],
             [
              0.7777777777777778,
              "#fb9f3a"
             ],
             [
              0.8888888888888888,
              "#fdca26"
             ],
             [
              1,
              "#f0f921"
             ]
            ],
            "type": "histogram2d"
           }
          ],
          "histogram2dcontour": [
           {
            "colorbar": {
             "outlinewidth": 0,
             "ticks": ""
            },
            "colorscale": [
             [
              0,
              "#0d0887"
             ],
             [
              0.1111111111111111,
              "#46039f"
             ],
             [
              0.2222222222222222,
              "#7201a8"
             ],
             [
              0.3333333333333333,
              "#9c179e"
             ],
             [
              0.4444444444444444,
              "#bd3786"
             ],
             [
              0.5555555555555556,
              "#d8576b"
             ],
             [
              0.6666666666666666,
              "#ed7953"
             ],
             [
              0.7777777777777778,
              "#fb9f3a"
             ],
             [
              0.8888888888888888,
              "#fdca26"
             ],
             [
              1,
              "#f0f921"
             ]
            ],
            "type": "histogram2dcontour"
           }
          ],
          "mesh3d": [
           {
            "colorbar": {
             "outlinewidth": 0,
             "ticks": ""
            },
            "type": "mesh3d"
           }
          ],
          "parcoords": [
           {
            "line": {
             "colorbar": {
              "outlinewidth": 0,
              "ticks": ""
             }
            },
            "type": "parcoords"
           }
          ],
          "pie": [
           {
            "automargin": true,
            "type": "pie"
           }
          ],
          "scatter": [
           {
            "fillpattern": {
             "fillmode": "overlay",
             "size": 10,
             "solidity": 0.2
            },
            "type": "scatter"
           }
          ],
          "scatter3d": [
           {
            "line": {
             "colorbar": {
              "outlinewidth": 0,
              "ticks": ""
             }
            },
            "marker": {
             "colorbar": {
              "outlinewidth": 0,
              "ticks": ""
             }
            },
            "type": "scatter3d"
           }
          ],
          "scattercarpet": [
           {
            "marker": {
             "colorbar": {
              "outlinewidth": 0,
              "ticks": ""
             }
            },
            "type": "scattercarpet"
           }
          ],
          "scattergeo": [
           {
            "marker": {
             "colorbar": {
              "outlinewidth": 0,
              "ticks": ""
             }
            },
            "type": "scattergeo"
           }
          ],
          "scattergl": [
           {
            "marker": {
             "colorbar": {
              "outlinewidth": 0,
              "ticks": ""
             }
            },
            "type": "scattergl"
           }
          ],
          "scattermapbox": [
           {
            "marker": {
             "colorbar": {
              "outlinewidth": 0,
              "ticks": ""
             }
            },
            "type": "scattermapbox"
           }
          ],
          "scatterpolar": [
           {
            "marker": {
             "colorbar": {
              "outlinewidth": 0,
              "ticks": ""
             }
            },
            "type": "scatterpolar"
           }
          ],
          "scatterpolargl": [
           {
            "marker": {
             "colorbar": {
              "outlinewidth": 0,
              "ticks": ""
             }
            },
            "type": "scatterpolargl"
           }
          ],
          "scatterternary": [
           {
            "marker": {
             "colorbar": {
              "outlinewidth": 0,
              "ticks": ""
             }
            },
            "type": "scatterternary"
           }
          ],
          "surface": [
           {
            "colorbar": {
             "outlinewidth": 0,
             "ticks": ""
            },
            "colorscale": [
             [
              0,
              "#0d0887"
             ],
             [
              0.1111111111111111,
              "#46039f"
             ],
             [
              0.2222222222222222,
              "#7201a8"
             ],
             [
              0.3333333333333333,
              "#9c179e"
             ],
             [
              0.4444444444444444,
              "#bd3786"
             ],
             [
              0.5555555555555556,
              "#d8576b"
             ],
             [
              0.6666666666666666,
              "#ed7953"
             ],
             [
              0.7777777777777778,
              "#fb9f3a"
             ],
             [
              0.8888888888888888,
              "#fdca26"
             ],
             [
              1,
              "#f0f921"
             ]
            ],
            "type": "surface"
           }
          ],
          "table": [
           {
            "cells": {
             "fill": {
              "color": "#EBF0F8"
             },
             "line": {
              "color": "white"
             }
            },
            "header": {
             "fill": {
              "color": "#C8D4E3"
             },
             "line": {
              "color": "white"
             }
            },
            "type": "table"
           }
          ]
         },
         "layout": {
          "annotationdefaults": {
           "arrowcolor": "#2a3f5f",
           "arrowhead": 0,
           "arrowwidth": 1
          },
          "autotypenumbers": "strict",
          "coloraxis": {
           "colorbar": {
            "outlinewidth": 0,
            "ticks": ""
           }
          },
          "colorscale": {
           "diverging": [
            [
             0,
             "#8e0152"
            ],
            [
             0.1,
             "#c51b7d"
            ],
            [
             0.2,
             "#de77ae"
            ],
            [
             0.3,
             "#f1b6da"
            ],
            [
             0.4,
             "#fde0ef"
            ],
            [
             0.5,
             "#f7f7f7"
            ],
            [
             0.6,
             "#e6f5d0"
            ],
            [
             0.7,
             "#b8e186"
            ],
            [
             0.8,
             "#7fbc41"
            ],
            [
             0.9,
             "#4d9221"
            ],
            [
             1,
             "#276419"
            ]
           ],
           "sequential": [
            [
             0,
             "#0d0887"
            ],
            [
             0.1111111111111111,
             "#46039f"
            ],
            [
             0.2222222222222222,
             "#7201a8"
            ],
            [
             0.3333333333333333,
             "#9c179e"
            ],
            [
             0.4444444444444444,
             "#bd3786"
            ],
            [
             0.5555555555555556,
             "#d8576b"
            ],
            [
             0.6666666666666666,
             "#ed7953"
            ],
            [
             0.7777777777777778,
             "#fb9f3a"
            ],
            [
             0.8888888888888888,
             "#fdca26"
            ],
            [
             1,
             "#f0f921"
            ]
           ],
           "sequentialminus": [
            [
             0,
             "#0d0887"
            ],
            [
             0.1111111111111111,
             "#46039f"
            ],
            [
             0.2222222222222222,
             "#7201a8"
            ],
            [
             0.3333333333333333,
             "#9c179e"
            ],
            [
             0.4444444444444444,
             "#bd3786"
            ],
            [
             0.5555555555555556,
             "#d8576b"
            ],
            [
             0.6666666666666666,
             "#ed7953"
            ],
            [
             0.7777777777777778,
             "#fb9f3a"
            ],
            [
             0.8888888888888888,
             "#fdca26"
            ],
            [
             1,
             "#f0f921"
            ]
           ]
          },
          "colorway": [
           "#636efa",
           "#EF553B",
           "#00cc96",
           "#ab63fa",
           "#FFA15A",
           "#19d3f3",
           "#FF6692",
           "#B6E880",
           "#FF97FF",
           "#FECB52"
          ],
          "font": {
           "color": "#2a3f5f"
          },
          "geo": {
           "bgcolor": "white",
           "lakecolor": "white",
           "landcolor": "#E5ECF6",
           "showlakes": true,
           "showland": true,
           "subunitcolor": "white"
          },
          "hoverlabel": {
           "align": "left"
          },
          "hovermode": "closest",
          "mapbox": {
           "style": "light"
          },
          "paper_bgcolor": "white",
          "plot_bgcolor": "#E5ECF6",
          "polar": {
           "angularaxis": {
            "gridcolor": "white",
            "linecolor": "white",
            "ticks": ""
           },
           "bgcolor": "#E5ECF6",
           "radialaxis": {
            "gridcolor": "white",
            "linecolor": "white",
            "ticks": ""
           }
          },
          "scene": {
           "xaxis": {
            "backgroundcolor": "#E5ECF6",
            "gridcolor": "white",
            "gridwidth": 2,
            "linecolor": "white",
            "showbackground": true,
            "ticks": "",
            "zerolinecolor": "white"
           },
           "yaxis": {
            "backgroundcolor": "#E5ECF6",
            "gridcolor": "white",
            "gridwidth": 2,
            "linecolor": "white",
            "showbackground": true,
            "ticks": "",
            "zerolinecolor": "white"
           },
           "zaxis": {
            "backgroundcolor": "#E5ECF6",
            "gridcolor": "white",
            "gridwidth": 2,
            "linecolor": "white",
            "showbackground": true,
            "ticks": "",
            "zerolinecolor": "white"
           }
          },
          "shapedefaults": {
           "line": {
            "color": "#2a3f5f"
           }
          },
          "ternary": {
           "aaxis": {
            "gridcolor": "white",
            "linecolor": "white",
            "ticks": ""
           },
           "baxis": {
            "gridcolor": "white",
            "linecolor": "white",
            "ticks": ""
           },
           "bgcolor": "#E5ECF6",
           "caxis": {
            "gridcolor": "white",
            "linecolor": "white",
            "ticks": ""
           }
          },
          "title": {
           "x": 0.05
          },
          "xaxis": {
           "automargin": true,
           "gridcolor": "white",
           "linecolor": "white",
           "ticks": "",
           "title": {
            "standoff": 15
           },
           "zerolinecolor": "white",
           "zerolinewidth": 2
          },
          "yaxis": {
           "automargin": true,
           "gridcolor": "white",
           "linecolor": "white",
           "ticks": "",
           "title": {
            "standoff": 15
           },
           "zerolinecolor": "white",
           "zerolinewidth": 2
          }
         }
        },
        "title": {
         "text": "Daily Returns"
        },
        "xaxis": {
         "anchor": "y",
         "domain": [
          0,
          1
         ],
         "title": {
          "text": "timeseries"
         }
        },
        "yaxis": {
         "anchor": "x",
         "domain": [
          0,
          1
         ],
         "title": {
          "text": "daily_return"
         }
        }
       }
      }
     },
     "metadata": {},
     "output_type": "display_data"
    }
   ],
   "source": [
    "\n",
    "pandas_df['daily_return'] = pandas_df['close'].pct_change()\n",
    "fig = px.scatter(pandas_df, x='timeseries', y='daily_return', color='symbol', title='Daily Returns')\n",
    "fig.show()\n"
   ]
  },
  {
   "cell_type": "code",
   "execution_count": null,
   "metadata": {},
   "outputs": [],
   "source": []
  }
 ],
 "metadata": {
  "kernelspec": {
   "display_name": ".venv",
   "language": "python",
   "name": "python3"
  },
  "language_info": {
   "codemirror_mode": {
    "name": "ipython",
    "version": 3
   },
   "file_extension": ".py",
   "mimetype": "text/x-python",
   "name": "python",
   "nbconvert_exporter": "python",
   "pygments_lexer": "ipython3",
   "version": "3.11.4"
  }
 },
 "nbformat": 4,
 "nbformat_minor": 2
}
